{
 "cells": [
  {
   "cell_type": "markdown",
   "metadata": {},
   "source": [
    "# Handling CSV files"
   ]
  },
  {
   "cell_type": "code",
   "execution_count": 3,
   "metadata": {},
   "outputs": [],
   "source": [
    "file=\"mstp.txt\"\n",
    "def name(file):\n",
    "    with open(file,'w') as a:\n",
    "        a.write(\"kvsw\"+\",\"+\"kvsr\"+\",\"+\"kvsm\")\n",
    "name(file)"
   ]
  },
  {
   "cell_type": "code",
   "execution_count": 7,
   "metadata": {},
   "outputs": [],
   "source": [
    "with open(file,'a') as a:\n",
    "    a.write(\"\\ncse\"+\",\"+\"ece\"+\",\"+\"eee\"+\",\"+\"civil\")"
   ]
  },
  {
   "cell_type": "code",
   "execution_count": 8,
   "metadata": {},
   "outputs": [
    {
     "name": "stdout",
     "output_type": "stream",
     "text": [
      "kvsw,kvsr,kvsmcse,ece,eee,civil\n",
      "\n",
      "cse,ece,eee,civil\n",
      "cse,ece,eee,civil\n",
      "cse,ece,eee,civil\n"
     ]
    }
   ],
   "source": [
    "with open(file,'r') as a:\n",
    "    a1=a.read()\n",
    "    print(a1)"
   ]
  },
  {
   "cell_type": "code",
   "execution_count": 10,
   "metadata": {},
   "outputs": [
    {
     "name": "stdout",
     "output_type": "stream",
     "text": [
      "cse,ece,eee,civil\n",
      "\n"
     ]
    }
   ],
   "source": [
    "with open(file,'r') as a:\n",
    "    a1=a.readlines()\n",
    "    print(a1[2])"
   ]
  },
  {
   "cell_type": "code",
   "execution_count": 2,
   "metadata": {},
   "outputs": [],
   "source": [
    "file1=\"contacts.txt\"\n",
    "with open(file1,'a') as f:\n",
    "    f.write(\"lalasa\"+\",\"+\"9160303016\"+\",\"+\"lalasacse510@gmail.com\")\n",
    "    f.write(\"\\numa\"+\",\"+\"9703255854\"+\",\"+\"dari.uma432@gmail.com\")"
   ]
  },
  {
   "cell_type": "code",
   "execution_count": 3,
   "metadata": {},
   "outputs": [
    {
     "name": "stdout",
     "output_type": "stream",
     "text": [
      "['lalasa,9160303016,lalasacse510@gmail.com\\n', 'uma,9703255854,dari.uma432@gmail.com\\n', 'mamatha,8019710764,mamathakarakala@gmail.comlalasa,9160303016,lalasacse510@gmail.com\\n', 'uma,9703255854,dari.uma432@gmail.com']\n",
      "9703255854\n"
     ]
    }
   ],
   "source": [
    "def csv_to_list(file1):\n",
    "    with open(file1,'r') as f:\n",
    "        f1=f.readlines()\n",
    "        print(f1)\n",
    "        s=f1[1].split(\",\")\n",
    "        print(s[1])\n",
    "csv_to_list(file1)"
   ]
  },
  {
   "cell_type": "code",
   "execution_count": 4,
   "metadata": {},
   "outputs": [
    {
     "data": {
      "text/plain": [
       "[['lalasa', '9160303016', 'lalasacse510@gmail.com\\n'],\n",
       " ['uma', '9703255854', 'dari.uma432@gmail.com\\n'],\n",
       " ['mamatha',\n",
       "  '8019710764',\n",
       "  'mamathakarakala@gmail.comlalasa',\n",
       "  '9160303016',\n",
       "  'lalasacse510@gmail.com\\n'],\n",
       " ['uma', '9703255854', 'dari.uma432@gmail.com']]"
      ]
     },
     "execution_count": 4,
     "metadata": {},
     "output_type": "execute_result"
    }
   ],
   "source": [
    "def csv_to_list(file1):\n",
    "    l=[]\n",
    "    with open(file1,'r') as f:\n",
    "        for line in f:\n",
    "            l.append(line.split(\",\"))\n",
    "    return l\n",
    "csv_to_list(file1)"
   ]
  },
  {
   "cell_type": "code",
   "execution_count": 5,
   "metadata": {},
   "outputs": [
    {
     "name": "stdout",
     "output_type": "stream",
     "text": [
      "lalasa,9160303016,lalasacse510@gmail.com\n",
      "uma,9703255854,dari.uma432@gmail.com\n",
      "mamatha,8019710764,mamathakarakala@gmail.comlalasa,9160303016,lalasacse510@gmail.com\n",
      "uma,9703255854,dari.uma432@gmail.com\n"
     ]
    }
   ],
   "source": [
    "def listtocsv(file1):\n",
    "    d=csv_to_list(file1)\n",
    "    s=\"\"\n",
    "    for i in d:\n",
    "        s+=\",\".join(i)\n",
    "    print(s)\n",
    "listtocsv(file1)\n",
    "    "
   ]
  },
  {
   "cell_type": "code",
   "execution_count": 6,
   "metadata": {},
   "outputs": [
    {
     "name": "stdout",
     "output_type": "stream",
     "text": [
      "contact already exit\n"
     ]
    }
   ],
   "source": [
    "# phone validation\n",
    "import re\n",
    "def phoneno(no):\n",
    "    pattern='^[0][6-9][0-9]{9}$|^[+][9][1][6-9][0-9]{9}$|^[6-9][0-9]{9}$'\n",
    "    if re.match(pattern,str(no)):\n",
    "        return 1\n",
    "    else:\n",
    "        return 0\n",
    "def email(id_):\n",
    "    pattern='^([a-z]|[A-Z]|[0-9])([a-z]|[A-Z]|[0-9]|[_]){6,14}([0-9]|[a-z]|[A-Z])[@][a-z]{2,10}[.][a-z]{2,4}$'\n",
    "    if re.match(pattern,str(id_)):\n",
    "        return 1\n",
    "    else:\n",
    "        return 0\n",
    "def searchcontact(name1,file1):\n",
    "    s=csv_to_list(file1)\n",
    "    for i in s:\n",
    "        if i[0]==name1:\n",
    "            return 1\n",
    "    return 0\n",
    "def addcontact(name1,no,id_,file1):\n",
    "    if searchcontact(name1,file1)==0:\n",
    "        if phoneno(no)==1:\n",
    "            if email(id_)==1:\n",
    "                with open(file1,'a') as f:\n",
    "                    f.write(\"\\n\"+name1+\",\"+no+\",\"+id_)\n",
    "                    print(\"contact add successfully\")\n",
    "    else:\n",
    "        print(\"contact already exit\")\n",
    "addcontact(\"mamatha\",\"8019710764\",\"mamathakarakala@gmail.com\",\"contacts.txt\")\n"
   ]
  },
  {
   "cell_type": "markdown",
   "metadata": {},
   "source": [
    "# Functional Programming"
   ]
  },
  {
   "cell_type": "code",
   "execution_count": 61,
   "metadata": {},
   "outputs": [],
   "source": [
    "#procedure--c\n",
    "#scripting--php,java,python,shell\n",
    "#structured--python,java,scala"
   ]
  },
  {
   "cell_type": "markdown",
   "metadata": {},
   "source": [
    "### list or dictionaries or tuples or sets or comphrehension"
   ]
  },
  {
   "cell_type": "code",
   "execution_count": 65,
   "metadata": {},
   "outputs": [
    {
     "name": "stdout",
     "output_type": "stream",
     "text": [
      "10\n",
      "1 2 3 4 5 6 7 8 9 10 "
     ]
    }
   ],
   "source": [
    "#print n natural number\n",
    "n=int(input())\n",
    "for i in range(1,n+1):\n",
    "    print(i,end=\" \")"
   ]
  },
  {
   "cell_type": "markdown",
   "metadata": {},
   "source": [
    "### List comphrehension"
   ]
  },
  {
   "cell_type": "code",
   "execution_count": 66,
   "metadata": {},
   "outputs": [
    {
     "name": "stdout",
     "output_type": "stream",
     "text": [
      "10\n"
     ]
    },
    {
     "data": {
      "text/plain": [
       "[1, 2, 3, 4, 5, 6, 7, 8, 9, 10]"
      ]
     },
     "execution_count": 66,
     "metadata": {},
     "output_type": "execute_result"
    }
   ],
   "source": [
    "#==>expression for list in items condition\n",
    "n=int(input())\n",
    "ls=[i for i in range(1,n+1)]\n",
    "ls"
   ]
  },
  {
   "cell_type": "code",
   "execution_count": 67,
   "metadata": {},
   "outputs": [
    {
     "data": {
      "text/plain": [
       "['GOOGLE.COM']"
      ]
     },
     "execution_count": 67,
     "metadata": {},
     "output_type": "execute_result"
    }
   ],
   "source": [
    "s=\"google.com\"\n",
    "f=[s.upper()]\n",
    "f"
   ]
  },
  {
   "cell_type": "code",
   "execution_count": 70,
   "metadata": {},
   "outputs": [
    {
     "data": {
      "text/plain": [
       "['G', 'O', 'O', 'G', 'L', 'E', '.', 'C', 'O', 'M']"
      ]
     },
     "execution_count": 70,
     "metadata": {},
     "output_type": "execute_result"
    }
   ],
   "source": [
    "f=[i.upper() for i in s]\n",
    "f"
   ]
  },
  {
   "cell_type": "code",
   "execution_count": 87,
   "metadata": {},
   "outputs": [
    {
     "name": "stdout",
     "output_type": "stream",
     "text": [
      "5\n"
     ]
    },
    {
     "data": {
      "text/plain": [
       "[1.0, 1.4142135623730951, 1.7320508075688772, 2.0, 2.23606797749979]"
      ]
     },
     "execution_count": 87,
     "metadata": {},
     "output_type": "execute_result"
    }
   ],
   "source": [
    "#print the first 10 numbers sqrt values in a list\n",
    "n=int(input())\n",
    "#for i in range(1,n+1):\n",
    "    #s=i**0.5\n",
    "    #print(s)\n",
    "ls=[i**0.5 for i in range(1,n+1)]   \n",
    "ls"
   ]
  },
  {
   "cell_type": "code",
   "execution_count": 89,
   "metadata": {},
   "outputs": [
    {
     "name": "stdout",
     "output_type": "stream",
     "text": [
      "5\n"
     ]
    },
    {
     "data": {
      "text/plain": [
       "[1.0, 1.4142135623730951, 1.7320508075688772, 2.0, 2.23606797749979]"
      ]
     },
     "execution_count": 89,
     "metadata": {},
     "output_type": "execute_result"
    }
   ],
   "source": [
    "import math\n",
    "n=int(input())\n",
    "ls=[]\n",
    "for i in range(1,n+1):\n",
    "    ls.append(i**0.5)\n",
    "ls"
   ]
  },
  {
   "cell_type": "code",
   "execution_count": 91,
   "metadata": {},
   "outputs": [
    {
     "name": "stdout",
     "output_type": "stream",
     "text": [
      "20\n",
      "30\n"
     ]
    },
    {
     "data": {
      "text/plain": [
       "[400, 441, 484, 529, 576, 625, 676, 729, 784, 841, 900]"
      ]
     },
     "execution_count": 91,
     "metadata": {},
     "output_type": "execute_result"
    }
   ],
   "source": [
    "n=int(input())\n",
    "n1=int(input())\n",
    "li=[s*s for s in range(n,n1+1)]\n",
    "li\n"
   ]
  },
  {
   "cell_type": "code",
   "execution_count": 92,
   "metadata": {},
   "outputs": [
    {
     "data": {
      "text/plain": [
       "[68921, 74088, 79507, 85184, 91125, 97336, 103823, 110592, 117649, 125000]"
      ]
     },
     "execution_count": 92,
     "metadata": {},
     "output_type": "execute_result"
    }
   ],
   "source": [
    "l=[a**3 for a in range(41,51)]#cubes of a number in given range\n",
    "l"
   ]
  },
  {
   "cell_type": "code",
   "execution_count": 109,
   "metadata": {},
   "outputs": [
    {
     "name": "stdout",
     "output_type": "stream",
     "text": [
      "5\n",
      "[1, 2, 6, 24, 120]\n"
     ]
    }
   ],
   "source": [
    "#function to find out the factriol of a number\n",
    "def factriol(num):\n",
    "    l=[]\n",
    "    s=1\n",
    "    for i in range(1,num+1):\n",
    "        s=s*i\n",
    "        l.append(s)\n",
    "    print(l)\n",
    "num=int(input())\n",
    "factriol(num)"
   ]
  },
  {
   "cell_type": "code",
   "execution_count": 110,
   "metadata": {},
   "outputs": [
    {
     "name": "stdout",
     "output_type": "stream",
     "text": [
      "[1, 2, 6, 24, 120]\n",
      "[1, 2, 6, 24, 120]\n",
      "[1, 2, 6, 24, 120]\n",
      "[1, 2, 6, 24, 120]\n",
      "[1, 2, 6, 24, 120]\n"
     ]
    },
    {
     "data": {
      "text/plain": [
       "[None, None, None, None, None]"
      ]
     },
     "execution_count": 110,
     "metadata": {},
     "output_type": "execute_result"
    }
   ],
   "source": [
    "ls=[factriol(num) for i in range(num)]\n",
    "ls"
   ]
  },
  {
   "cell_type": "code",
   "execution_count": 120,
   "metadata": {},
   "outputs": [
    {
     "name": "stdout",
     "output_type": "stream",
     "text": [
      "10\n",
      "20\n",
      "[10, 12, 14, 16, 18, 20]\n",
      "[11, 13, 15, 17, 19]\n"
     ]
    }
   ],
   "source": [
    "# even or odd\n",
    "def evenorodd(n):\n",
    "    l=[]\n",
    "    l1=[]\n",
    "    for i in range(a,b+1):\n",
    "        if i%2==0:\n",
    "            l.append(i)\n",
    "        else:\n",
    "            l1.append(i)\n",
    "    print(l)\n",
    "    print(l1)\n",
    "a=int(input())\n",
    "b=int(input())\n",
    "evenorodd(n)"
   ]
  },
  {
   "cell_type": "code",
   "execution_count": 122,
   "metadata": {},
   "outputs": [
    {
     "name": "stdout",
     "output_type": "stream",
     "text": [
      "even--> [10, 12, 14, 16, 18, 20]\n",
      "odd--> [11, 13, 15, 17, 19]\n"
     ]
    }
   ],
   "source": [
    "## even or odd\n",
    "ls=[i for i in range(10,21) if i%2==0]\n",
    "print(\"even-->\",ls)\n",
    "li=[j for j in range(10,20) if j%2!=0]\n",
    "print(\"odd-->\",li)"
   ]
  },
  {
   "cell_type": "markdown",
   "metadata": {},
   "source": [
    "#### nested loops in comphrehension"
   ]
  },
  {
   "cell_type": "code",
   "execution_count": 124,
   "metadata": {},
   "outputs": [
    {
     "name": "stdout",
     "output_type": "stream",
     "text": [
      "['even', 'odd', 'even', 'odd', 'even', 'odd', 'even', 'odd', 'even', 'odd', 'even']\n",
      "[10, 11, 12, 13, 14, 15, 16, 17, 18, 19, 20]\n"
     ]
    }
   ],
   "source": [
    "e=[\"even\" if i%2==0 else \"odd\" for i in range (10,21)]\n",
    "o=[i if i%2==0 else i for i in range (10,21)]\n",
    "print(e)\n",
    "print(o)"
   ]
  },
  {
   "cell_type": "code",
   "execution_count": 125,
   "metadata": {},
   "outputs": [
    {
     "data": {
      "text/plain": [
       "[10, 20]"
      ]
     },
     "execution_count": 125,
     "metadata": {},
     "output_type": "execute_result"
    }
   ],
   "source": [
    "q=[i for i in range(1,21) if i%2==0 if i%5==0]\n",
    "q"
   ]
  },
  {
   "cell_type": "code",
   "execution_count": 133,
   "metadata": {},
   "outputs": [
    {
     "name": "stdout",
     "output_type": "stream",
     "text": [
      "leapyear : [2000, 2004, 2008, 2012, 2016, 2020]\n"
     ]
    }
   ],
   "source": [
    "#leap years from 2000-2020\n",
    "leapyear=[i for i in range(2000,2021) if i%4==0 and i%100!=0 or i%400==0]\n",
    "print(\"leapyear :\",leapyear)"
   ]
  },
  {
   "cell_type": "markdown",
   "metadata": {},
   "source": [
    "### lambda"
   ]
  },
  {
   "cell_type": "code",
   "execution_count": 134,
   "metadata": {},
   "outputs": [
    {
     "name": "stdout",
     "output_type": "stream",
     "text": [
      "16\n"
     ]
    }
   ],
   "source": [
    "#anonymous function\n",
    "#syntax--> lambda arguments:expression\n",
    "d=lambda n:n**2\n",
    "print(d(4))"
   ]
  },
  {
   "cell_type": "code",
   "execution_count": 136,
   "metadata": {},
   "outputs": [
    {
     "name": "stdout",
     "output_type": "stream",
     "text": [
      "64\n"
     ]
    }
   ],
   "source": [
    "s=lambda n:n**3\n",
    "print(s(4))"
   ]
  },
  {
   "cell_type": "code",
   "execution_count": 138,
   "metadata": {},
   "outputs": [
    {
     "data": {
      "text/plain": [
       "[1, 4, 9, 16, 25]"
      ]
     },
     "execution_count": 138,
     "metadata": {},
     "output_type": "execute_result"
    }
   ],
   "source": [
    "l=[1,2,3,4,5]\n",
    "li=[i**2 for i in l]\n",
    "li"
   ]
  },
  {
   "cell_type": "markdown",
   "metadata": {},
   "source": [
    "### iterators"
   ]
  },
  {
   "cell_type": "code",
   "execution_count": 142,
   "metadata": {},
   "outputs": [
    {
     "name": "stdout",
     "output_type": "stream",
     "text": [
      "1\n",
      "2\n"
     ]
    }
   ],
   "source": [
    "#syntax-->iter(),next()\n",
    "a=iter(l)\n",
    "print(next(a))\n",
    "print(next(a))"
   ]
  },
  {
   "cell_type": "markdown",
   "metadata": {},
   "source": [
    "### generators"
   ]
  },
  {
   "cell_type": "code",
   "execution_count": 147,
   "metadata": {},
   "outputs": [
    {
     "name": "stdout",
     "output_type": "stream",
     "text": [
      "5\n",
      "7\n"
     ]
    }
   ],
   "source": [
    "# syntax-->yield,next\n",
    "def add(a,b):\n",
    "    c=a+b\n",
    "    yield c\n",
    "    a+=1\n",
    "    b+=1\n",
    "    c=a+b\n",
    "    yield c\n",
    "d=add(2,3)\n",
    "for i in add(2,3):\n",
    "    print(i)"
   ]
  },
  {
   "cell_type": "markdown",
   "metadata": {},
   "source": [
    "### map"
   ]
  },
  {
   "cell_type": "code",
   "execution_count": 152,
   "metadata": {},
   "outputs": [
    {
     "name": "stdout",
     "output_type": "stream",
     "text": [
      "[1, 4, 9, 16, 25]\n"
     ]
    }
   ],
   "source": [
    "#syntax-->map(fun,iterbale)\n",
    "def square(n):\n",
    "    return n**2\n",
    "l=[1,2,3,4,5]\n",
    "print(list(map(square,l)))"
   ]
  },
  {
   "cell_type": "code",
   "execution_count": 153,
   "metadata": {},
   "outputs": [
    {
     "name": "stdout",
     "output_type": "stream",
     "text": [
      "[1, 4, 9, 16, 25]\n"
     ]
    }
   ],
   "source": [
    "print(list(map(lambda n:n**2,l)))"
   ]
  },
  {
   "cell_type": "code",
   "execution_count": 157,
   "metadata": {},
   "outputs": [
    {
     "name": "stdout",
     "output_type": "stream",
     "text": [
      "[6, 8, 10, 12]\n"
     ]
    }
   ],
   "source": [
    "# addition of two numbers\n",
    "t=(1,2,3,4)\n",
    "t1=(5,6,7,8)\n",
    "print(list(map(lambda a,b:a+b,t,t1)))"
   ]
  },
  {
   "cell_type": "markdown",
   "metadata": {},
   "source": [
    "### filter"
   ]
  },
  {
   "cell_type": "code",
   "execution_count": 159,
   "metadata": {},
   "outputs": [
    {
     "name": "stdout",
     "output_type": "stream",
     "text": [
      "[2, 4, 6, 8, 10]\n"
     ]
    }
   ],
   "source": [
    "#syntax-->filter(fun,iterable)\n",
    "a=[1,2,3,4,5,6,7,8,9,10]\n",
    "a1=filter(lambda n:n%2==0,a)\n",
    "print(list(a1))"
   ]
  },
  {
   "cell_type": "code",
   "execution_count": 172,
   "metadata": {},
   "outputs": [
    {
     "name": "stdout",
     "output_type": "stream",
     "text": [
      "[1, 2, 3]\n"
     ]
    }
   ],
   "source": [
    "n=[1,2,3,'a','b']\n",
    "def digit(n):\n",
    "        if str(n).isdigit():\n",
    "            return True\n",
    "        return False\n",
    "print(list(filter(digit,l1)))"
   ]
  },
  {
   "cell_type": "code",
   "execution_count": 197,
   "metadata": {},
   "outputs": [
    {
     "name": "stdout",
     "output_type": "stream",
     "text": [
      "[2, 3, 5, 7]\n"
     ]
    }
   ],
   "source": [
    "l=list(range(1,10))\n",
    "def prime(l):\n",
    "        c=0\n",
    "        for j in range(1,l+1):\n",
    "            if l%j==0:\n",
    "                c=c+1\n",
    "        if c==2:\n",
    "            return 1\n",
    "        return 0\n",
    "print(list(filter(prime,l)))"
   ]
  },
  {
   "cell_type": "code",
   "execution_count": null,
   "metadata": {},
   "outputs": [],
   "source": []
  }
 ],
 "metadata": {
  "kernelspec": {
   "display_name": "Python 3",
   "language": "python",
   "name": "python3"
  },
  "language_info": {
   "codemirror_mode": {
    "name": "ipython",
    "version": 3
   },
   "file_extension": ".py",
   "mimetype": "text/x-python",
   "name": "python",
   "nbconvert_exporter": "python",
   "pygments_lexer": "ipython3",
   "version": "3.7.3"
  }
 },
 "nbformat": 4,
 "nbformat_minor": 2
}
