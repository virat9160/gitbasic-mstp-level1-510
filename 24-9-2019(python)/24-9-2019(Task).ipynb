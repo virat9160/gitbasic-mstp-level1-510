{
 "cells": [
  {
   "cell_type": "markdown",
   "metadata": {},
   "source": [
    "# TASK"
   ]
  },
  {
   "cell_type": "markdown",
   "metadata": {},
   "source": [
    "#### 1.Check if the number exist in a given range (inputs: number(n), range(lower number and upper number) "
   ]
  },
  {
   "cell_type": "code",
   "execution_count": 1,
   "metadata": {},
   "outputs": [
    {
     "name": "stdout",
     "output_type": "stream",
     "text": [
      "20\n",
      "10\n",
      "15\n",
      "not in range--> 20\n"
     ]
    }
   ],
   "source": [
    "def number(n):\n",
    "    if n in range(lb,ub):\n",
    "            print(\"in range-->\",n)\n",
    "    else:\n",
    "            print(\"not in range-->\",n)\n",
    "n=int(input())\n",
    "lb=int(input())\n",
    "ub=int(input())\n",
    "number(n)\n"
   ]
  },
  {
   "cell_type": "markdown",
   "metadata": {},
   "source": [
    "# 2.Check the number of digits in a given number"
   ]
  },
  {
   "cell_type": "code",
   "execution_count": 26,
   "metadata": {},
   "outputs": [
    {
     "name": "stdout",
     "output_type": "stream",
     "text": [
      "4444\n",
      "4\n"
     ]
    }
   ],
   "source": [
    "def numberofdigits(n):\n",
    "    print(len(n))\n",
    "n=input()\n",
    "numberofdigits(n)"
   ]
  },
  {
   "cell_type": "markdown",
   "metadata": {},
   "source": [
    "#### 3.Check if the given number is a factor of 1000 "
   ]
  },
  {
   "cell_type": "code",
   "execution_count": 9,
   "metadata": {},
   "outputs": [
    {
     "name": "stdout",
     "output_type": "stream",
     "text": [
      "4\n",
      "factor\n"
     ]
    }
   ],
   "source": [
    "def number(n):\n",
    "    if(1000%n==0):\n",
    "        print(\"factor\")\n",
    "    else:\n",
    "        print(\"not factor\")\n",
    "n=int(input())\n",
    "number(n)\n"
   ]
  },
  {
   "cell_type": "markdown",
   "metadata": {},
   "source": [
    "#### 4.Calculate the square root of a given number "
   ]
  },
  {
   "cell_type": "code",
   "execution_count": 28,
   "metadata": {},
   "outputs": [
    {
     "name": "stdout",
     "output_type": "stream",
     "text": [
      "3\n",
      "1.73\n"
     ]
    }
   ],
   "source": [
    "def squareroot(n):\n",
    "    sqrt_=n**0.5\n",
    "    print(round(sqrt_,2))\n",
    "n=int(input())\n",
    "squareroot(n)"
   ]
  },
  {
   "cell_type": "markdown",
   "metadata": {},
   "source": [
    "#### 5.python program to take values of length and breadth(width) of a rectangle from user and check if it is square or not. . "
   ]
  },
  {
   "cell_type": "code",
   "execution_count": 12,
   "metadata": {},
   "outputs": [
    {
     "name": "stdout",
     "output_type": "stream",
     "text": [
      "10\n",
      "5\n",
      "rectangle\n"
     ]
    }
   ],
   "source": [
    "def lengthandbreadth(l,b):\n",
    "    if(l==b):\n",
    "        print(\"square\")\n",
    "    else:\n",
    "        print(\"rectangle\")\n",
    "l=int(input())\n",
    "b=int(input())\n",
    "lengthandbreadth(l,b)"
   ]
  },
  {
   "cell_type": "markdown",
   "metadata": {},
   "source": [
    "#### 6.A school has following rules for grading system:\n",
    "##### Below 25 - F\n",
    "##### 25 to 45 - E\n",
    "##### 45 to 50 - D\n",
    "##### 50 to 60 - C\n",
    "##### 60 to 80 - B\n",
    "##### Above 80 - A\n",
    "##### Ask user to enter marks and print the corresponding grade. "
   ]
  },
  {
   "cell_type": "code",
   "execution_count": 10,
   "metadata": {},
   "outputs": [
    {
     "name": "stdout",
     "output_type": "stream",
     "text": [
      "47\n",
      "grade-D\n"
     ]
    }
   ],
   "source": [
    "def grading(n):\n",
    "    if(n<=25):\n",
    "        print(\"grade-f\")\n",
    "    elif(n<=45):\n",
    "        print(\"grade-E\")\n",
    "    elif(n<=50):\n",
    "        print(\"grade-D\")\n",
    "    elif(n<=60):\n",
    "        print(\"grade-C\")\n",
    "    elif(n<=80):\n",
    "        print(\"grade-B\")\n",
    "    elif(n>80):\n",
    "        print(\"grade-A\")\n",
    "n=int(input())\n",
    "grading(n)"
   ]
  },
  {
   "cell_type": "markdown",
   "metadata": {},
   "source": [
    "#### 7.Take input of age of 3 people by user and determine oldest and youngest among them. "
   ]
  },
  {
   "cell_type": "code",
   "execution_count": 14,
   "metadata": {},
   "outputs": [
    {
     "name": "stdout",
     "output_type": "stream",
     "text": [
      "20\n",
      "60\n",
      "40\n",
      "oldest 60\n",
      "youngest 20\n"
     ]
    }
   ],
   "source": [
    "def age(a,b,c):\n",
    "    if((a>b)& (a>c)):\n",
    "        oldest=a\n",
    "    elif((b>c)&(b>a)):\n",
    "        oldest=b\n",
    "    else:\n",
    "        oldest=c\n",
    "    if((a<b)&(a<c)):\n",
    "        youngest=a\n",
    "    elif((b<a)&(b<c)):\n",
    "        youngest=b\n",
    "    else:\n",
    "        youngest=c\n",
    "    print(\"oldest\",oldest)\n",
    "    print(\"youngest\",youngest)\n",
    "a=int(input())\n",
    "b=int(input())\n",
    "c=int(input())\n",
    "age(a,b,c)"
   ]
  },
  {
   "cell_type": "markdown",
   "metadata": {},
   "source": [
    "### 8..A student will not be allowed to sit in exam if his/her attendance is less than 75%.\n",
    "* Take following input from user Number of classes held,Number of classes attended.\n",
    "* And print percentage of class attended Is student is allowed to sit in exam or not. "
   ]
  },
  {
   "cell_type": "code",
   "execution_count": 1,
   "metadata": {},
   "outputs": [
    {
     "name": "stdout",
     "output_type": "stream",
     "text": [
      "400\n",
      "50\n",
      "12.5\n",
      "not allowed 12.5\n"
     ]
    }
   ],
   "source": [
    "def attendance(n,p):\n",
    "    per=((p/n)*100)\n",
    "    print(per)\n",
    "    if(per>=75):\n",
    "        print(\"allowed\",per)\n",
    "    else:\n",
    "        print(\"not allowed\",per)\n",
    "n=int(input())\n",
    "p=int(input())\n",
    "attendance(n,p)"
   ]
  },
  {
   "cell_type": "markdown",
   "metadata": {},
   "source": []
  }
 ],
 "metadata": {
  "kernelspec": {
   "display_name": "Python 3",
   "language": "python",
   "name": "python3"
  },
  "language_info": {
   "codemirror_mode": {
    "name": "ipython",
    "version": 3
   },
   "file_extension": ".py",
   "mimetype": "text/x-python",
   "name": "python",
   "nbconvert_exporter": "python",
   "pygments_lexer": "ipython3",
   "version": "3.7.3"
  }
 },
 "nbformat": 4,
 "nbformat_minor": 2
}
