{
 "cells": [
  {
   "cell_type": "markdown",
   "metadata": {},
   "source": [
    "# TASK"
   ]
  },
  {
   "cell_type": "markdown",
   "metadata": {},
   "source": [
    "#### 1.Check if the number exist in a given range (inputs: number(n), range(lower number and upper number) "
   ]
  },
  {
   "cell_type": "code",
   "execution_count": 10,
   "metadata": {},
   "outputs": [
    {
     "name": "stdout",
     "output_type": "stream",
     "text": [
      "10\n",
      "2\n",
      "5\n",
      "not in range--> 10\n",
      "not in range--> 10\n",
      "not in range--> 10\n"
     ]
    }
   ],
   "source": [
    "def number(n):\n",
    "    for i in range(lb,ub):\n",
    "        if(n<=ub):\n",
    "            print(\"in range-->\",n)\n",
    "        else:\n",
    "            print(\"not in range-->\",n)\n",
    "n=int(input())\n",
    "lb=int(input())\n",
    "ub=int(input())\n",
    "number(n)"
   ]
  },
  {
   "cell_type": "markdown",
   "metadata": {},
   "source": [
    "#### 2.Check the number of digits in a given number"
   ]
  },
  {
   "cell_type": "code",
   "execution_count": 43,
   "metadata": {},
   "outputs": [
    {
     "name": "stdout",
     "output_type": "stream",
     "text": [
      "123\n"
     ]
    }
   ],
   "source": [
    "def numberofdigits(n):\n",
    "    count=0\n",
    "    for i in range(1,len(n)):\n",
    "        if(i<=len(n)):\n",
    "            count=count+1\n",
    "    if(count==len(n)):\n",
    "        print(count)\n",
    "n=input()\n",
    "numberofdigits(n)"
   ]
  },
  {
   "cell_type": "markdown",
   "metadata": {},
   "source": [
    "#### 3.Check if the given number is a factor of 1000 "
   ]
  },
  {
   "cell_type": "markdown",
   "metadata": {},
   "source": [
    "#### 4.Calculate the square root of a given number "
   ]
  },
  {
   "cell_type": "code",
   "execution_count": 37,
   "metadata": {},
   "outputs": [
    {
     "name": "stdout",
     "output_type": "stream",
     "text": [
      "4\n",
      "2.0\n"
     ]
    }
   ],
   "source": [
    "def squareroot(n):\n",
    "    sqrt_=n**0.5\n",
    "    print(sqrt_)\n",
    "n=int(input())\n",
    "squareroot(n)"
   ]
  },
  {
   "cell_type": "markdown",
   "metadata": {},
   "source": [
    "#### 5.python program to take values of length and breadth(width) of a rectangle from user and check if it is square or not. . "
   ]
  },
  {
   "cell_type": "markdown",
   "metadata": {},
   "source": [
    "#### 6.A school has following rules for grading system:\n",
    "##### Below 25 - F\n",
    "##### 25 to 45 - E\n",
    "##### 45 to 50 - D\n",
    "##### 50 to 60 - C\n",
    "##### 60 to 80 - B\n",
    "##### Above 80 - A\n",
    "##### Ask user to enter marks and print the corresponding grade. "
   ]
  },
  {
   "cell_type": "markdown",
   "metadata": {},
   "source": [
    "#### 7.Take input of age of 3 people by user and determine oldest and youngest among them. "
   ]
  },
  {
   "cell_type": "markdown",
   "metadata": {},
   "source": [
    "#### 8..A student will not be allowed to sit in exam if his/her attendance is less than 75%.\n",
    "* Take following input from user Number of classes held,Number of classes attended.\n",
    "* And print percentage of class attended Is student is allowed to sit in exam or not. "
   ]
  },
  {
   "cell_type": "code",
   "execution_count": null,
   "metadata": {},
   "outputs": [],
   "source": []
  }
 ],
 "metadata": {
  "kernelspec": {
   "display_name": "Python 3",
   "language": "python",
   "name": "python3"
  },
  "language_info": {
   "codemirror_mode": {
    "name": "ipython",
    "version": 3
   },
   "file_extension": ".py",
   "mimetype": "text/x-python",
   "name": "python",
   "nbconvert_exporter": "python",
   "pygments_lexer": "ipython3",
   "version": "3.7.3"
  }
 },
 "nbformat": 4,
 "nbformat_minor": 2
}
