{
 "cells": [
  {
   "cell_type": "markdown",
   "metadata": {},
   "source": [
    "## Regular Expressions"
   ]
  },
  {
   "cell_type": "markdown",
   "metadata": {},
   "source": [
    "##### 1.abc---->that matches the character sequence in the string\n",
    "##### 2.^abc--->beginning of the string\n",
    "##### 3.abc$--->end of the string"
   ]
  },
  {
   "cell_type": "markdown",
   "metadata": {},
   "source": [
    "##### 4.a|b---->either a or b\n",
    "##### 5.ab{2,4}c--->a followed by two,three or four b's followed by c\n",
    "##### 6.ab*c--->a followed any number(zero or more)of b's followed by c"
   ]
  },
  {
   "cell_type": "markdown",
   "metadata": {},
   "source": [
    "##### 7.ab+c--->a followed one or more b's followed by c\n",
    "##### 8.ab?c--->a followed by an optional b,followed by c,either abc or ac"
   ]
  },
  {
   "cell_type": "markdown",
   "metadata": {},
   "source": [
    "## Phone.No Validation"
   ]
  },
  {
   "cell_type": "code",
   "execution_count": 15,
   "metadata": {},
   "outputs": [
    {
     "data": {
      "text/plain": [
       "1"
      ]
     },
     "execution_count": 15,
     "metadata": {},
     "output_type": "execute_result"
    }
   ],
   "source": [
    "# ^[0][6-9][0-9]{9}$ --->10 digit number starting with 0\n",
    "# ^+91[6-9][0-9]{9}$--->10 digit number starting with +91\n",
    "# ^[6-9][0-9]{9}$\n",
    "import re\n",
    "def phoneno(no):\n",
    "    pattern='^[0][6-9][0-9]{9}$|^[+][9][1][6-9][0-9]{9}$|^[6-9][0-9]{9}$'\n",
    "    if re.match(pattern,str(no)):\n",
    "        return 1\n",
    "    else:\n",
    "        return \n",
    "phoneno(\"+919160303016\")"
   ]
  },
  {
   "cell_type": "code",
   "execution_count": 30,
   "metadata": {},
   "outputs": [
    {
     "name": "stdout",
     "output_type": "stream",
     "text": [
      "phone number verifed successfully\n",
      "email verified successfully\n"
     ]
    },
    {
     "data": {
      "text/plain": [
       "{'lalu': ['9160303016', '162t1a0510@gmail.com'],\n",
       " 'lalasa': ['9703255854', 'lalasacse510@gmail.com']}"
      ]
     },
     "execution_count": 30,
     "metadata": {},
     "output_type": "execute_result"
    }
   ],
   "source": [
    "c={\"lalu\":[\"9160303016\",\"162t1a0510@gmail.com\"]}\n",
    "import re\n",
    "def validation(name,lis):\n",
    "    if name not in c:\n",
    "        if phoneno(lis[0])==1:\n",
    "            print(\"phone number verifed successfully\")\n",
    "        else:\n",
    "            print(\"enter valid phone number\")\n",
    "        if email(lis[1])==1:\n",
    "            print(\"email verified successfully\")\n",
    "        else:\n",
    "                print(\"enter valid emailid\")\n",
    "        c[name]=lis\n",
    "           \n",
    "    else:\n",
    "        print(\"contact already exist\")\n",
    "validation(\"lalasa\",[\"9703255854\",\"lalasacse510@gmail.com\"]) \n",
    "c"
   ]
  },
  {
   "cell_type": "markdown",
   "metadata": {},
   "source": [
    "\n",
    "\n",
    "\n",
    "\n",
    "## Roll Number\n"
   ]
  },
  {
   "cell_type": "code",
   "execution_count": null,
   "metadata": {},
   "outputs": [],
   "source": [
    "# ^[0-9]{2}([0-9]|[a-z]|[A-Z]|[0-9]){2}[1][a-z][0][1-5]([0-9]|[a-z]|[A-z]){2}$"
   ]
  },
  {
   "cell_type": "markdown",
   "metadata": {},
   "source": [
    "## email validation"
   ]
  },
  {
   "cell_type": "code",
   "execution_count": 19,
   "metadata": {},
   "outputs": [
    {
     "data": {
      "text/plain": [
       "1"
      ]
     },
     "execution_count": 19,
     "metadata": {},
     "output_type": "execute_result"
    }
   ],
   "source": [
    "# ^([a-z]|[A-Z]|[0-9])([a-z]|[A-Z]|[0-9]|[_]){6,14}([0-9]|[a-z]|[A-Z])[@][a-z]{2,10}[.][a-z]{2-4}$\n",
    "import re\n",
    "def email(id_):\n",
    "    pattern='^([a-z]|[A-Z]|[0-9])([a-z]|[A-Z]|[0-9]|[_]){6,14}([0-9]|[a-z]|[A-Z])[@][a-z]{2,10}[.][a-z]{2,4}$'\n",
    "    if re.match(pattern,str(id_)):\n",
    "        return 1\n",
    "    else:\n",
    "        return 0\n",
    "email(\"lalasacse510@gmail.com\")"
   ]
  }
 ],
 "metadata": {
  "kernelspec": {
   "display_name": "Python 3",
   "language": "python",
   "name": "python3"
  },
  "language_info": {
   "codemirror_mode": {
    "name": "ipython",
    "version": 3
   },
   "file_extension": ".py",
   "mimetype": "text/x-python",
   "name": "python",
   "nbconvert_exporter": "python",
   "pygments_lexer": "ipython3",
   "version": "3.7.3"
  }
 },
 "nbformat": 4,
 "nbformat_minor": 2
}
