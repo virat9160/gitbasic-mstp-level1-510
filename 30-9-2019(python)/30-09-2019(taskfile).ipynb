{
 "cells": [
  {
   "cell_type": "markdown",
   "metadata": {},
   "source": [
    "### 1.Write a Python program to generate and print a list and a dictionary of square of numbers between 1 and 15 (both included) \n"
   ]
  },
  {
   "cell_type": "code",
   "execution_count": 21,
   "metadata": {},
   "outputs": [
    {
     "name": "stdout",
     "output_type": "stream",
     "text": [
      "{1: 1, 2: 4, 3: 9, 4: 16, 5: 25, 6: 36, 7: 49, 8: 64, 9: 81, 10: 100, 11: 121, 12: 144, 13: 169, 14: 196, 15: 225}\n",
      "[1, 4, 9, 16, 25, 36, 49, 64, 81, 100, 121, 144, 169, 196, 225]\n"
     ]
    }
   ],
   "source": [
    "d={}\n",
    "l=[]\n",
    "n=15\n",
    "for i in range(1,n+1):\n",
    "    d[i]=i**2\n",
    "    l.append(i**2)\n",
    "print(d)\n",
    "print(l)\n"
   ]
  },
  {
   "cell_type": "markdown",
   "metadata": {},
   "source": [
    "### 2.Take 10 integer inputs from user and store them in a list and print them on screen.\n"
   ]
  },
  {
   "cell_type": "code",
   "execution_count": 9,
   "metadata": {},
   "outputs": [
    {
     "name": "stdout",
     "output_type": "stream",
     "text": [
      "10\n",
      "[1, 2, 3, 4, 5, 6, 7, 8, 9, 10]\n"
     ]
    }
   ],
   "source": [
    "x=[]\n",
    "n=int(input())\n",
    "for i in range(1,n+1):\n",
    "        x.append(i)\n",
    "print(x)"
   ]
  },
  {
   "cell_type": "markdown",
   "metadata": {},
   "source": [
    "### 3.l=[1,5,7,3,2,4,5,9],print list of all even numbers from the given list \n"
   ]
  },
  {
   "cell_type": "code",
   "execution_count": 12,
   "metadata": {},
   "outputs": [
    {
     "name": "stdout",
     "output_type": "stream",
     "text": [
      "[2, 4]\n"
     ]
    }
   ],
   "source": [
    "def even(l):\n",
    "    x=[]\n",
    "    for i in l:\n",
    "        if i%2==0:\n",
    "            x.append(i)\n",
    "    return(x)\n",
    "print(even([1,5,7,3,2,4,5,9]))\n"
   ]
  },
  {
   "cell_type": "markdown",
   "metadata": {},
   "source": [
    "### 4.Take 10 integer inputs from user and print the following:\n",
    "#### number of positive numbers\n",
    "#### number of negative numbers\n",
    "#### number of odd numbers\n",
    "#### number of even numbers\n",
    "#### number of 0s.using dictionaries\n",
    "#### a=[10,20,-5,-6,3,4,0,0,-2,8]\n",
    "#### d={p:5,n:3,e:6,odd:2,0:2}"
   ]
  },
  {
   "cell_type": "code",
   "execution_count": 9,
   "metadata": {},
   "outputs": [
    {
     "name": "stdout",
     "output_type": "stream",
     "text": [
      "1\n",
      "-2\n",
      "3\n",
      "-4\n",
      "5\n",
      "-6\n",
      "7\n",
      "0\n",
      "-99\n",
      "9\n",
      "{'p': 5, 'n': 4, 'e': 3, 'o': 6, 'z': 1}\n"
     ]
    }
   ],
   "source": [
    "#a=[10,20,-5,-6,3,4,0,0,-2,8]\n",
    "#d=\n",
    "x=[]\n",
    "for i in range(1,11):\n",
    "    n=int(input())\n",
    "    x.append(n)\n",
    "#print(x)\n",
    "d={'p':0,'n':0,'e':0,'o':0,'z':0}\n",
    "for j in x:\n",
    "    if j>0:\n",
    "        d['p']+=1\n",
    "        if j%2==0:\n",
    "            d['e']+=1\n",
    "        else:\n",
    "            d['o']+=1\n",
    "    elif j<0:\n",
    "        d['n']+=1\n",
    "        if j%2==0:\n",
    "            d['e']+=1\n",
    "        else:\n",
    "            d['o']+=1\n",
    "    elif j==0:\n",
    "        d['z']+=1\n",
    "print(d)\n",
    "        \n"
   ]
  },
  {
   "cell_type": "markdown",
   "metadata": {},
   "source": [
    "### 5.Ask user to give name and marks of 10 different students. Store them in dictionary.\n"
   ]
  },
  {
   "cell_type": "code",
   "execution_count": 7,
   "metadata": {},
   "outputs": [
    {
     "name": "stdout",
     "output_type": "stream",
     "text": [
      "10\n",
      "harshi\n",
      "20\n",
      "sunny\n",
      "30\n",
      "janani\n",
      "28\n",
      "chandu\n",
      "10\n",
      "hari\n",
      "29\n",
      "sweety\n",
      "15\n",
      "neelu\n",
      "60\n",
      "vani\n",
      "26\n",
      "sai\n",
      "66\n",
      "sri\n",
      "11\n",
      "{'harshi': 20, 'sunny': 30, 'janani': 28, 'chandu': 10, 'hari': 29, 'sweety': 15, 'neelu': 60, 'vani': 26, 'sai': 66, 'sri': 11}\n"
     ]
    }
   ],
   "source": [
    "d={}\n",
    "n=int(input())\n",
    "for i in range(1,n+1):\n",
    "    s=input()\n",
    "    x=int(input())\n",
    "    d[s]=x\n",
    "print(d)\n",
    "    "
   ]
  },
  {
   "cell_type": "markdown",
   "metadata": {},
   "source": [
    "### 6.Sort the dictionary created in previous example according to marks.\n"
   ]
  },
  {
   "cell_type": "code",
   "execution_count": 2,
   "metadata": {},
   "outputs": [
    {
     "name": "stdout",
     "output_type": "stream",
     "text": [
      "2\n",
      "10\n",
      "a\n",
      "20\n",
      "b\n",
      "{10: 'a', 20: 'b'}\n",
      "[10, 20]\n",
      "10 : a\n",
      "20 : b\n"
     ]
    }
   ],
   "source": [
    "d={}\n",
    "n=int(input())\n",
    "for i in range(1,n+1):\n",
    "    s=int(input())\n",
    "    x=input()\n",
    "    d[s]=x\n",
    "print(d)\n",
    "a=sorted(d.keys())\n",
    "print(a)\n",
    "for i in a:\n",
    "    print(i,\":\",d[i])\n",
    "    "
   ]
  },
  {
   "cell_type": "markdown",
   "metadata": {},
   "source": [
    "### 7.Use dictionary to store antonyms of words. \n",
    "E.g.- 'Right':'Left', 'Up':'Down', etc. Display all words and then ask user to enter a word and display antonym of it."
   ]
  },
  {
   "cell_type": "code",
   "execution_count": null,
   "metadata": {},
   "outputs": [
    {
     "name": "stdout",
     "output_type": "stream",
     "text": [
      "['Right', 'Up']\n"
     ]
    }
   ],
   "source": [
    "a={\"Right\":\"Left\",\"Up\":\"Down\"}\n",
    "print(list(a.keys()))\n",
    "#for i in g.keys():\n",
    "    #print(i)\n",
    "n=input()\n",
    "#print(a.get(n))\n",
    "print(a[n])"
   ]
  },
  {
   "cell_type": "markdown",
   "metadata": {},
   "source": [
    "### 8.Count the number of occurrence of each letter in word \"MISSISSIPPI\". Store count of every letter with the letter in a dictionary.\n"
   ]
  },
  {
   "cell_type": "code",
   "execution_count": 13,
   "metadata": {},
   "outputs": [
    {
     "name": "stdout",
     "output_type": "stream",
     "text": [
      "{'M': 1, 'I': 4, 'S': 4, 'P': 2}\n"
     ]
    }
   ],
   "source": [
    "l=\"MISSISSIPPI\"\n",
    "k={}\n",
    "for i in l:\n",
    "    k[i]=l.count(i)\n",
    "print(k)"
   ]
  },
  {
   "cell_type": "markdown",
   "metadata": {},
   "source": [
    "### 9.From the previous question, sort according to the number of letters.\n"
   ]
  },
  {
   "cell_type": "code",
   "execution_count": 14,
   "metadata": {},
   "outputs": [
    {
     "name": "stdout",
     "output_type": "stream",
     "text": [
      "{'I': 4, 'M': 1, 'P': 2, 'S': 4}\n"
     ]
    }
   ],
   "source": [
    "l=\"MISSISSIPPI\"\n",
    "k={}\n",
    "l=sorted(l)\n",
    "for i in l:\n",
    "    k[i]=l.count(i)\n",
    "print(k)"
   ]
  },
  {
   "cell_type": "code",
   "execution_count": null,
   "metadata": {},
   "outputs": [],
   "source": []
  }
 ],
 "metadata": {
  "kernelspec": {
   "display_name": "Python 3",
   "language": "python",
   "name": "python3"
  },
  "language_info": {
   "codemirror_mode": {
    "name": "ipython",
    "version": 3
   },
   "file_extension": ".py",
   "mimetype": "text/x-python",
   "name": "python",
   "nbconvert_exporter": "python",
   "pygments_lexer": "ipython3",
   "version": "3.7.3"
  }
 },
 "nbformat": 4,
 "nbformat_minor": 2
}
