{
 "cells": [
  {
   "cell_type": "markdown",
   "metadata": {},
   "source": [
    "#### 1.Function to print all numbers divisible by 6 and not a factor of 100 ina given range"
   ]
  },
  {
   "cell_type": "code",
   "execution_count": 17,
   "metadata": {},
   "outputs": [
    {
     "name": "stdout",
     "output_type": "stream",
     "text": [
      "10\n",
      "30\n",
      "12\n",
      "18\n",
      "24\n"
     ]
    }
   ],
   "source": [
    "def divisible(lb):\n",
    "        if((lb%6==0)&(100%lb!=0)):\n",
    "            print(lb)\n",
    "lb=int(input())\n",
    "ub=int(input())\n",
    "for j in range (lb,ub):\n",
    "    divisible(j)"
   ]
  },
  {
   "cell_type": "markdown",
   "metadata": {},
   "source": [
    "#### 2.Program to print the all the even no in range inclusive"
   ]
  },
  {
   "cell_type": "code",
   "execution_count": 16,
   "metadata": {},
   "outputs": [
    {
     "name": "stdout",
     "output_type": "stream",
     "text": [
      "10\n",
      "20\n",
      "10\n",
      "12\n",
      "14\n",
      "16\n",
      "18\n",
      "20\n"
     ]
    }
   ],
   "source": [
    "def even(lb):\n",
    "    if(lb%2==0):\n",
    "        return 1\n",
    "    else:\n",
    "        return 0\n",
    "lb=int(input())\n",
    "ub=int(input())\n",
    "for j in range(lb,ub):\n",
    "    if even(j)==1:\n",
    "        print(j)"
   ]
  },
  {
   "cell_type": "markdown",
   "metadata": {},
   "source": [
    "#### 3.Functions to find the average of cubes of all even numbers in a given range inclusive"
   ]
  },
  {
   "cell_type": "code",
   "execution_count": 30,
   "metadata": {},
   "outputs": [
    {
     "name": "stdout",
     "output_type": "stream",
     "text": [
      "1\n",
      "5\n",
      "avg 36\n"
     ]
    }
   ],
   "source": [
    "lb=int(input())\n",
    "ub=int(input())\n",
    "def cubesavg(lb,ub):\n",
    "    s=0\n",
    "    count=0\n",
    "    for j in range(lb,ub):\n",
    "        if j%2==0:\n",
    "            a=j**3\n",
    "            s=s+a\n",
    "            count=count+1\n",
    "    print(\"avg\",s//count) \n",
    "cubesavg(lb,ub)\n"
   ]
  },
  {
   "cell_type": "markdown",
   "metadata": {},
   "source": [
    "##### 4.Program to print all the sum of perfect number in a given range"
   ]
  },
  {
   "cell_type": "code",
   "execution_count": 42,
   "metadata": {},
   "outputs": [
    {
     "name": "stdout",
     "output_type": "stream",
     "text": [
      "1\n",
      "50\n",
      "perfect--> 6\n",
      "perfect--> 28\n"
     ]
    }
   ],
   "source": [
    "def perfect(lb):\n",
    "    s=0\n",
    "    for i in range(1,lb+1):\n",
    "        if(lb%i==0):\n",
    "            s=s+i\n",
    "    if(s==lb):\n",
    "        print(\"perfect-->\",lb)\n",
    "lb=int(input())\n",
    "ub=int(input())\n",
    "for j in range(lb,ub+1):\n",
    "    perfect(j)\n",
    "    "
   ]
  },
  {
   "cell_type": "markdown",
   "metadata": {},
   "source": [
    "#### 5.Function to generate N odd armstrong numbers"
   ]
  },
  {
   "cell_type": "code",
   "execution_count": 9,
   "metadata": {},
   "outputs": [
    {
     "name": "stdout",
     "output_type": "stream",
     "text": [
      "153\n",
      "amstrong--> 153\n",
      "odd\n"
     ]
    }
   ],
   "source": [
    "def amstrong(lb):\n",
    "    s=0\n",
    "    b=lb\n",
    "    while(lb!=0):\n",
    "        a=lb%10\n",
    "        s=s+a**3\n",
    "        lb=lb//10\n",
    "    if(s==b):\n",
    "        print(\"amstrong-->\",s)\n",
    "        if(s%2!=0):\n",
    "            print(\"odd\")\n",
    "lb=int(input())\n",
    "amstrong(lb)"
   ]
  },
  {
   "cell_type": "code",
   "execution_count": null,
   "metadata": {},
   "outputs": [],
   "source": []
  }
 ],
 "metadata": {
  "kernelspec": {
   "display_name": "Python 3",
   "language": "python",
   "name": "python3"
  },
  "language_info": {
   "codemirror_mode": {
    "name": "ipython",
    "version": 3
   },
   "file_extension": ".py",
   "mimetype": "text/x-python",
   "name": "python",
   "nbconvert_exporter": "python",
   "pygments_lexer": "ipython3",
   "version": "3.7.3"
  }
 },
 "nbformat": 4,
 "nbformat_minor": 2
}
