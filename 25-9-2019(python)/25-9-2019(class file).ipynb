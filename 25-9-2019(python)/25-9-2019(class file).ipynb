{
 "cells": [
  {
   "cell_type": "markdown",
   "metadata": {},
   "source": [
    "## Function to print all the prime numbers in a range"
   ]
  },
  {
   "cell_type": "code",
   "execution_count": 4,
   "metadata": {},
   "outputs": [
    {
     "name": "stdout",
     "output_type": "stream",
     "text": [
      "10\n",
      "20\n",
      "11 13 17 19 "
     ]
    }
   ],
   "source": [
    "# method-1\n",
    "def prime(lb):\n",
    "    count=0\n",
    "    for i in range(1,lb+1):\n",
    "        if(lb%i==0):\n",
    "            count=count+1\n",
    "    if(count==2):\n",
    "         print(i,end=\" \")\n",
    "lb=int(input())\n",
    "ub=int(input())\n",
    "for j in range (lb,ub+1):\n",
    "    prime(j)"
   ]
  },
  {
   "cell_type": "code",
   "execution_count": 5,
   "metadata": {},
   "outputs": [
    {
     "name": "stdout",
     "output_type": "stream",
     "text": [
      "10\n",
      "30\n",
      "11 13 17 19 23 29 "
     ]
    }
   ],
   "source": [
    "# method-2\n",
    "def prime(lb):\n",
    "    count=0\n",
    "    for i in range(1,lb+1):\n",
    "        if(lb%i==0):\n",
    "            count=count+1\n",
    "    if(count==2):\n",
    "        return 1\n",
    "    else:\n",
    "        return 0\n",
    "lb=int(input())\n",
    "ub=int(input())\n",
    "for j in range (lb,ub+1):\n",
    "    if prime(j)==1:\n",
    "        print(j,end=\" \")"
   ]
  },
  {
   "cell_type": "code",
   "execution_count": null,
   "metadata": {},
   "outputs": [],
   "source": []
  }
 ],
 "metadata": {
  "kernelspec": {
   "display_name": "Python 3",
   "language": "python",
   "name": "python3"
  },
  "language_info": {
   "codemirror_mode": {
    "name": "ipython",
    "version": 3
   },
   "file_extension": ".py",
   "mimetype": "text/x-python",
   "name": "python",
   "nbconvert_exporter": "python",
   "pygments_lexer": "ipython3",
   "version": "3.7.3"
  }
 },
 "nbformat": 4,
 "nbformat_minor": 2
}
