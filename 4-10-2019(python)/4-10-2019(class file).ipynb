{
 "cells": [
  {
   "cell_type": "markdown",
   "metadata": {},
   "source": [
    "### File mode\n",
    "* tell\n",
    "* seek\n",
    "* w+=write and read"
   ]
  },
  {
   "cell_type": "code",
   "execution_count": 15,
   "metadata": {},
   "outputs": [],
   "source": [
    "# create a file and store the data\n",
    "\n",
    "def file_operations(a):\n",
    "    a=open(\"file_operations.txt\",\"w\")\n",
    "    a.write(\"Hello world\\n\")\n",
    "    a.write(\"Welcom to kvsw\\n\")\n",
    "    a.write(\"This is cse branch\\n\")\n",
    "    a.close()\n",
    "a=\"file_operations.txt\"\n",
    "file_operations(a)"
   ]
  },
  {
   "cell_type": "code",
   "execution_count": 6,
   "metadata": {},
   "outputs": [
    {
     "name": "stdout",
     "output_type": "stream",
     "text": [
      "121\n",
      "palindrom\n"
     ]
    }
   ],
   "source": [
    "# number palindrom\n",
    "n=input()\n",
    "def number_palindrom(n):\n",
    "    n1=n[::-1]\n",
    "    if(n==n1):\n",
    "        print(\"palindrom\")\n",
    "    else:\n",
    "        print(\"not palindrom\")\n",
    "number_palindrom(n)"
   ]
  },
  {
   "cell_type": "code",
   "execution_count": 23,
   "metadata": {},
   "outputs": [
    {
     "name": "stdout",
     "output_type": "stream",
     "text": [
      "Hello\n",
      "5\n"
     ]
    }
   ],
   "source": [
    "# tell is used to show the curcer position\n",
    "f=open(\"file_operations.txt\",\"r\")\n",
    "f1=f.read(5)\n",
    "print(f1)\n",
    "print(f.tell())\n",
    "f.close()"
   ]
  },
  {
   "cell_type": "code",
   "execution_count": 24,
   "metadata": {},
   "outputs": [
    {
     "name": "stdout",
     "output_type": "stream",
     "text": [
      "2\n"
     ]
    }
   ],
   "source": [
    "#seek is used to place the curcer position\n",
    "x=open(\"file_operations.txt\",\"r\")\n",
    "x.read()\n",
    "x.seek(2)\n",
    "print(x.tell())"
   ]
  },
  {
   "cell_type": "code",
   "execution_count": 25,
   "metadata": {},
   "outputs": [
    {
     "name": "stdout",
     "output_type": "stream",
     "text": [
      "Hello world\n",
      "Welcom to kvsw\n",
      "This is cse branch\n",
      "\n",
      "o world\n",
      "Welcom to kvsw\n",
      "This is cse branch\n",
      "\n"
     ]
    }
   ],
   "source": [
    "y=open(\"file_operations.txt\",\"r\")\n",
    "print(y.read())\n",
    "y.seek(4)\n",
    "y.tell()\n",
    "print(y.read())"
   ]
  },
  {
   "cell_type": "code",
   "execution_count": 28,
   "metadata": {},
   "outputs": [
    {
     "name": "stdout",
     "output_type": "stream",
     "text": [
      "happy Dusara\n"
     ]
    }
   ],
   "source": [
    "def write_read(file):\n",
    "    with open(file,\"w+\") as z:\n",
    "        z.write(\"happy Dusara\")\n",
    "        z.seek(0)\n",
    "        z1=z.read()\n",
    "        print(z1)\n",
    "file=\"file_operations\"\n",
    "write_read(file)\n",
    "\n",
    "        "
   ]
  },
  {
   "cell_type": "code",
   "execution_count": 21,
   "metadata": {},
   "outputs": [
    {
     "name": "stdout",
     "output_type": "stream",
     "text": [
      "121\n",
      "121\n",
      "palindrom\n"
     ]
    }
   ],
   "source": [
    "n=input()\n",
    "n1=int(n)\n",
    "r=0\n",
    "for i in range(len(n)):\n",
    "    a=int(n)%10\n",
    "    r=r*10+a\n",
    "    n=int(n)//10\n",
    "print(r)\n",
    "if(n1==r):\n",
    "    print(\"palindrom\")\n",
    "else:\n",
    "    print(\"not palindrom\")\n",
    "    \n",
    "    "
   ]
  },
  {
   "cell_type": "code",
   "execution_count": 23,
   "metadata": {},
   "outputs": [
    {
     "name": "stdout",
     "output_type": "stream",
     "text": [
      "madam\n",
      "palindrom\n"
     ]
    }
   ],
   "source": [
    "n=input()\n",
    "r=\"\"\n",
    "for i in range(len(n)):\n",
    "    r=n[i]+r\n",
    "if(r==n):\n",
    "    print(\"palindrom\")\n",
    "else:\n",
    "    print(\"not palindrom\")"
   ]
  },
  {
   "cell_type": "code",
   "execution_count": null,
   "metadata": {},
   "outputs": [],
   "source": []
  }
 ],
 "metadata": {
  "kernelspec": {
   "display_name": "Python 3",
   "language": "python",
   "name": "python3"
  },
  "language_info": {
   "codemirror_mode": {
    "name": "ipython",
    "version": 3
   },
   "file_extension": ".py",
   "mimetype": "text/x-python",
   "name": "python",
   "nbconvert_exporter": "python",
   "pygments_lexer": "ipython3",
   "version": "3.7.3"
  }
 },
 "nbformat": 4,
 "nbformat_minor": 2
}
