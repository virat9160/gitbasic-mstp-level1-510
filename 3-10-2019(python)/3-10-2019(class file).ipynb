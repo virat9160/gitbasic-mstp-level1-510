{
 "cells": [
  {
   "cell_type": "markdown",
   "metadata": {},
   "source": [
    "## File handiling in python\n",
    "* read--r\n",
    "* write--w\n",
    "* append--a\n",
    "* read&write--r+\n",
    "* write&read--w+\n",
    "* append&write--a+\n",
    "* exclusive write--x\n"
   ]
  },
  {
   "cell_type": "code",
   "execution_count": 2,
   "metadata": {},
   "outputs": [],
   "source": [
    "#file opening\n",
    "#file=open(\"sample.txt\",\"mode\")"
   ]
  },
  {
   "cell_type": "code",
   "execution_count": 9,
   "metadata": {},
   "outputs": [],
   "source": [
    "# craete a file and add some content\n",
    "a=open(\"data.txt\",\"w\")\n",
    "a.write(\"welcome to python\\n\")\n",
    "a.write(\"welcom to kvsw\\n\")\n",
    "a.close()"
   ]
  },
  {
   "cell_type": "code",
   "execution_count": 11,
   "metadata": {},
   "outputs": [
    {
     "name": "stdout",
     "output_type": "stream",
     "text": [
      "welcome to python\n",
      "welcom to kvsw\n",
      "\n"
     ]
    }
   ],
   "source": [
    "# print content of a file\n",
    "data=open(\"data.txt\",\"r\")\n",
    "a1=data.read()\n",
    "print(a1)\n",
    "data.close()"
   ]
  },
  {
   "cell_type": "code",
   "execution_count": 21,
   "metadata": {},
   "outputs": [
    {
     "name": "stdout",
     "output_type": "stream",
     "text": [
      "welcome to python\n",
      "welcom to kvsw\n",
      "\n"
     ]
    }
   ],
   "source": [
    "def read_data(filepath):\n",
    "    filepath=open(\"data.txt\",\"r\")\n",
    "    a2=filepath.read()\n",
    "    print(a2)\n",
    "filepath=\"data.txt\"\n",
    "read_data(filepath)"
   ]
  },
  {
   "cell_type": "code",
   "execution_count": 23,
   "metadata": {},
   "outputs": [],
   "source": [
    "def write_data(file):\n",
    "    file=open(\"data.txt\",\"w\")\n",
    "    file.write(\"Mstp file\\n\")\n",
    "file=\"data.txt\"\n",
    "write_data(file)\n",
    "    "
   ]
  },
  {
   "cell_type": "code",
   "execution_count": 27,
   "metadata": {},
   "outputs": [],
   "source": [
    "def append_data(fileappend):\n",
    "    file=open(\"data.txt\",\"a\")\n",
    "    file.write(\"apssdc skill development\\n\")\n",
    "fileappend=\"data.txt\"\n",
    "append_data(fileappend)"
   ]
  },
  {
   "cell_type": "code",
   "execution_count": 29,
   "metadata": {},
   "outputs": [
    {
     "name": "stdout",
     "output_type": "stream",
     "text": [
      "Mstp file\n",
      "apssdc skill development\n",
      "apssdc skill development\n",
      "\n"
     ]
    }
   ],
   "source": [
    "def read_filecontent(filepath):\n",
    "    filepath=open(\"data.txt\",\"r\")\n",
    "    f=filepath.read()\n",
    "    print(f)\n",
    "filepath=\"data.txt\"\n",
    "read_filecontent(filepath)"
   ]
  },
  {
   "cell_type": "code",
   "execution_count": 30,
   "metadata": {},
   "outputs": [
    {
     "name": "stdout",
     "output_type": "stream",
     "text": [
      "Mstp file\n",
      "\n"
     ]
    }
   ],
   "source": [
    "f=open(\"data.txt\",\"r\")\n",
    "x=f.readline()\n",
    "print(x)"
   ]
  },
  {
   "cell_type": "code",
   "execution_count": 36,
   "metadata": {},
   "outputs": [
    {
     "name": "stdout",
     "output_type": "stream",
     "text": [
      "Mstp file\n",
      "\n",
      "apssdc skill development\n",
      "\n",
      "apssdc skill development\n",
      "\n"
     ]
    }
   ],
   "source": [
    "f=open(\"data.txt\",\"r\")\n",
    "y=f.readlines()\n",
    "#print(y)\n",
    "for i in y:\n",
    "    print(i)"
   ]
  },
  {
   "cell_type": "code",
   "execution_count": 39,
   "metadata": {},
   "outputs": [
    {
     "name": "stdout",
     "output_type": "stream",
     "text": [
      "Mstp file\n",
      "\n",
      "apssdc skill development\n",
      "\n",
      "apssdc skill development\n",
      "\n"
     ]
    }
   ],
   "source": [
    "def element(file):\n",
    "    with open(\"data.txt\",\"r\") as file:\n",
    "        y=file.readlines()\n",
    "        for i in y:\n",
    "            print(i)\n",
    "file=\"data.txt\"\n",
    "element(file)"
   ]
  },
  {
   "cell_type": "code",
   "execution_count": 41,
   "metadata": {},
   "outputs": [
    {
     "name": "stdout",
     "output_type": "stream",
     "text": [
      "3\n"
     ]
    }
   ],
   "source": [
    " def lines_count(file):\n",
    "        with open(\"data.txt\",\"r\") as file:\n",
    "            lc=0\n",
    "            lines=file.readlines()\n",
    "            for i in lines:\n",
    "                lc=lc+1\n",
    "        print(lc)\n",
    "file=\"data.txt\"\n",
    "lines_count(file)"
   ]
  },
  {
   "cell_type": "code",
   "execution_count": 43,
   "metadata": {},
   "outputs": [
    {
     "name": "stdout",
     "output_type": "stream",
     "text": [
      "60\n"
     ]
    }
   ],
   "source": [
    "def character_count(file):\n",
    "    with open(\"data.txt\",\"r\") as file:\n",
    "        c=0\n",
    "        char=file.read()\n",
    "        for j in char:\n",
    "            c=c+1\n",
    "    print(c)\n",
    "file=\"data.txt\"\n",
    "character_count(file)"
   ]
  },
  {
   "cell_type": "code",
   "execution_count": 68,
   "metadata": {},
   "outputs": [
    {
     "name": "stdout",
     "output_type": "stream",
     "text": [
      "8\n"
     ]
    }
   ],
   "source": [
    "def words_count(file):\n",
    "    with open(\"data.txt\",\"r\") as file:\n",
    "        a=file.read()\n",
    "        a1=a.split()\n",
    "        print(len(a1))\n",
    "file=\"data.txt\"\n",
    "words_count(file)"
   ]
  },
  {
   "cell_type": "code",
   "execution_count": 72,
   "metadata": {},
   "outputs": [
    {
     "name": "stdout",
     "output_type": "stream",
     "text": [
      "3\n"
     ]
    }
   ],
   "source": [
    "def file_length(file):\n",
    "    with open(\"data.txt\",\"r\") as file:\n",
    "        le=file.readlines()\n",
    "        print(len(le))\n",
    "file=\"data.txt\"\n",
    "file_length(file)"
   ]
  },
  {
   "cell_type": "code",
   "execution_count": null,
   "metadata": {},
   "outputs": [],
   "source": []
  }
 ],
 "metadata": {
  "kernelspec": {
   "display_name": "Python 3",
   "language": "python",
   "name": "python3"
  },
  "language_info": {
   "codemirror_mode": {
    "name": "ipython",
    "version": 3
   },
   "file_extension": ".py",
   "mimetype": "text/x-python",
   "name": "python",
   "nbconvert_exporter": "python",
   "pygments_lexer": "ipython3",
   "version": "3.7.3"
  }
 },
 "nbformat": 4,
 "nbformat_minor": 2
}
