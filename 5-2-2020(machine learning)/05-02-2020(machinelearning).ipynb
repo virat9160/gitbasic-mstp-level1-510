{
 "cells": [
  {
   "cell_type": "markdown",
   "metadata": {},
   "source": [
    " ## Machine learning\n",
    "* Machine learning is not just a simple algorithm which you can put anywhere and start getting results.it is a process that      starts with defining data and ends with the model with some defined level of accuracy. \n",
    "## Steps involved in ML     \n",
    "* 1.Defining problem     (P-performance,E-exprience,T-task)\n",
    "* 2.Collecting the data\n",
    "* 3.Prepare the data\n",
    "* 4.Split the data in training and testing\n",
    "* 5.Algorithm Selection\n",
    "* 6.Training the algorithm\n",
    "* 7.evalution on test data\n",
    "* 8.Parameter tuning\n",
    "* 9.Start using your model\n",
    "## Types of ML\n",
    "* 1.Supervised learning ----->1.Classification 2.Regression\n",
    "* 2.Unsupervised learning----->1.Clustering 2. Association \n",
    "* 3.Reinforcement learning---->S/W component learns to react to an environment\n",
    "### Algorithms\n",
    "             Classification                      Regression                                 Clustering \n",
    "             1.Decision trees                    1.Simple linear regression model           1.k-means\n",
    "             2.bayesian networks                 2.Lasso regression                         2.mean-shift\n",
    "             3.Support vector machines           3.Logistic Regression                      3.Gaussian mixture\n",
    "             4.Random forest                     4.multiple regression                      4.EM-Clustering                                  5.neural networks                   5.boosting                                 5.hierarichal clustering\n",
    "#### Linear regression:\n",
    "              * y=f(x)  where x=independent variable,y=dependent variable\n",
    "              * y=b1x+b0  where b1=slope and b0=intercept\n",
    "              * y=b1x+b0+error\n",
    "              * root mean square error formula --->slope(b1)=sum(x-(mean of x))(y-(mean of y))/sum(x-mean of x)^2\n",
    "              * R-Squared value=sum(y predicted -mean of y)^2/sum(y-mean of y)^2\n",
    "              * mean square error(cost function)--->MSE(X,h(theta))=1/m summation(theta(transpose).x(i)-y(i))^2\n",
    "              \n",
    "              \n",
    "              \n",
    "                "
   ]
  },
  {
   "cell_type": "code",
   "execution_count": 1,
   "metadata": {},
   "outputs": [],
   "source": [
    "import pandas as pd\n",
    "import numpy as np\n",
    "import matplotlib.pyplot as plt"
   ]
  },
  {
   "cell_type": "code",
   "execution_count": 3,
   "metadata": {},
   "outputs": [
    {
     "data": {
      "text/html": [
       "<div>\n",
       "<style scoped>\n",
       "    .dataframe tbody tr th:only-of-type {\n",
       "        vertical-align: middle;\n",
       "    }\n",
       "\n",
       "    .dataframe tbody tr th {\n",
       "        vertical-align: top;\n",
       "    }\n",
       "\n",
       "    .dataframe thead th {\n",
       "        text-align: right;\n",
       "    }\n",
       "</style>\n",
       "<table border=\"1\" class=\"dataframe\">\n",
       "  <thead>\n",
       "    <tr style=\"text-align: right;\">\n",
       "      <th></th>\n",
       "      <th>Unnamed: 0</th>\n",
       "      <th>TV</th>\n",
       "      <th>radio</th>\n",
       "      <th>newspaper</th>\n",
       "      <th>sales</th>\n",
       "    </tr>\n",
       "  </thead>\n",
       "  <tbody>\n",
       "    <tr>\n",
       "      <th>195</th>\n",
       "      <td>196</td>\n",
       "      <td>38.2</td>\n",
       "      <td>3.7</td>\n",
       "      <td>13.8</td>\n",
       "      <td>7.6</td>\n",
       "    </tr>\n",
       "    <tr>\n",
       "      <th>196</th>\n",
       "      <td>197</td>\n",
       "      <td>94.2</td>\n",
       "      <td>4.9</td>\n",
       "      <td>8.1</td>\n",
       "      <td>9.7</td>\n",
       "    </tr>\n",
       "    <tr>\n",
       "      <th>197</th>\n",
       "      <td>198</td>\n",
       "      <td>177.0</td>\n",
       "      <td>9.3</td>\n",
       "      <td>6.4</td>\n",
       "      <td>12.8</td>\n",
       "    </tr>\n",
       "    <tr>\n",
       "      <th>198</th>\n",
       "      <td>199</td>\n",
       "      <td>283.6</td>\n",
       "      <td>42.0</td>\n",
       "      <td>66.2</td>\n",
       "      <td>25.5</td>\n",
       "    </tr>\n",
       "    <tr>\n",
       "      <th>199</th>\n",
       "      <td>200</td>\n",
       "      <td>232.1</td>\n",
       "      <td>8.6</td>\n",
       "      <td>8.7</td>\n",
       "      <td>13.4</td>\n",
       "    </tr>\n",
       "  </tbody>\n",
       "</table>\n",
       "</div>"
      ],
      "text/plain": [
       "     Unnamed: 0     TV  radio  newspaper  sales\n",
       "195         196   38.2    3.7       13.8    7.6\n",
       "196         197   94.2    4.9        8.1    9.7\n",
       "197         198  177.0    9.3        6.4   12.8\n",
       "198         199  283.6   42.0       66.2   25.5\n",
       "199         200  232.1    8.6        8.7   13.4"
      ]
     },
     "execution_count": 3,
     "metadata": {},
     "output_type": "execute_result"
    }
   ],
   "source": [
    "## reading the data\n",
    "data=pd.read_csv(\"advertisement.csv\")\n",
    "data.tail()"
   ]
  },
  {
   "cell_type": "code",
   "execution_count": 4,
   "metadata": {},
   "outputs": [
    {
     "data": {
      "text/html": [
       "<div>\n",
       "<style scoped>\n",
       "    .dataframe tbody tr th:only-of-type {\n",
       "        vertical-align: middle;\n",
       "    }\n",
       "\n",
       "    .dataframe tbody tr th {\n",
       "        vertical-align: top;\n",
       "    }\n",
       "\n",
       "    .dataframe thead th {\n",
       "        text-align: right;\n",
       "    }\n",
       "</style>\n",
       "<table border=\"1\" class=\"dataframe\">\n",
       "  <thead>\n",
       "    <tr style=\"text-align: right;\">\n",
       "      <th></th>\n",
       "      <th>TV</th>\n",
       "      <th>radio</th>\n",
       "      <th>newspaper</th>\n",
       "      <th>sales</th>\n",
       "    </tr>\n",
       "  </thead>\n",
       "  <tbody>\n",
       "    <tr>\n",
       "      <th>195</th>\n",
       "      <td>38.2</td>\n",
       "      <td>3.7</td>\n",
       "      <td>13.8</td>\n",
       "      <td>7.6</td>\n",
       "    </tr>\n",
       "    <tr>\n",
       "      <th>196</th>\n",
       "      <td>94.2</td>\n",
       "      <td>4.9</td>\n",
       "      <td>8.1</td>\n",
       "      <td>9.7</td>\n",
       "    </tr>\n",
       "    <tr>\n",
       "      <th>197</th>\n",
       "      <td>177.0</td>\n",
       "      <td>9.3</td>\n",
       "      <td>6.4</td>\n",
       "      <td>12.8</td>\n",
       "    </tr>\n",
       "    <tr>\n",
       "      <th>198</th>\n",
       "      <td>283.6</td>\n",
       "      <td>42.0</td>\n",
       "      <td>66.2</td>\n",
       "      <td>25.5</td>\n",
       "    </tr>\n",
       "    <tr>\n",
       "      <th>199</th>\n",
       "      <td>232.1</td>\n",
       "      <td>8.6</td>\n",
       "      <td>8.7</td>\n",
       "      <td>13.4</td>\n",
       "    </tr>\n",
       "  </tbody>\n",
       "</table>\n",
       "</div>"
      ],
      "text/plain": [
       "        TV  radio  newspaper  sales\n",
       "195   38.2    3.7       13.8    7.6\n",
       "196   94.2    4.9        8.1    9.7\n",
       "197  177.0    9.3        6.4   12.8\n",
       "198  283.6   42.0       66.2   25.5\n",
       "199  232.1    8.6        8.7   13.4"
      ]
     },
     "execution_count": 4,
     "metadata": {},
     "output_type": "execute_result"
    }
   ],
   "source": [
    "data.drop(\"Unnamed: 0\",axis=1,inplace=True)\n",
    "data.tail()"
   ]
  },
  {
   "cell_type": "code",
   "execution_count": 5,
   "metadata": {},
   "outputs": [
    {
     "name": "stdout",
     "output_type": "stream",
     "text": [
      "(200,)\n"
     ]
    },
    {
     "data": {
      "text/plain": [
       "array([230.1,  44.5,  17.2, 151.5, 180.8,   8.7,  57.5, 120.2,   8.6,\n",
       "       199.8,  66.1, 214.7,  23.8,  97.5, 204.1, 195.4,  67.8, 281.4,\n",
       "        69.2, 147.3, 218.4, 237.4,  13.2, 228.3,  62.3, 262.9, 142.9,\n",
       "       240.1, 248.8,  70.6, 292.9, 112.9,  97.2, 265.6,  95.7, 290.7,\n",
       "       266.9,  74.7,  43.1, 228. , 202.5, 177. , 293.6, 206.9,  25.1,\n",
       "       175.1,  89.7, 239.9, 227.2,  66.9, 199.8, 100.4, 216.4, 182.6,\n",
       "       262.7, 198.9,   7.3, 136.2, 210.8, 210.7,  53.5, 261.3, 239.3,\n",
       "       102.7, 131.1,  69. ,  31.5, 139.3, 237.4, 216.8, 199.1, 109.8,\n",
       "        26.8, 129.4, 213.4,  16.9,  27.5, 120.5,   5.4, 116. ,  76.4,\n",
       "       239.8,  75.3,  68.4, 213.5, 193.2,  76.3, 110.7,  88.3, 109.8,\n",
       "       134.3,  28.6, 217.7, 250.9, 107.4, 163.3, 197.6, 184.9, 289.7,\n",
       "       135.2, 222.4, 296.4, 280.2, 187.9, 238.2, 137.9,  25. ,  90.4,\n",
       "        13.1, 255.4, 225.8, 241.7, 175.7, 209.6,  78.2,  75.1, 139.2,\n",
       "        76.4, 125.7,  19.4, 141.3,  18.8, 224. , 123.1, 229.5,  87.2,\n",
       "         7.8,  80.2, 220.3,  59.6,   0.7, 265.2,   8.4, 219.8,  36.9,\n",
       "        48.3,  25.6, 273.7,  43. , 184.9,  73.4, 193.7, 220.5, 104.6,\n",
       "        96.2, 140.3, 240.1, 243.2,  38. ,  44.7, 280.7, 121. , 197.6,\n",
       "       171.3, 187.8,   4.1,  93.9, 149.8,  11.7, 131.7, 172.5,  85.7,\n",
       "       188.4, 163.5, 117.2, 234.5,  17.9, 206.8, 215.4, 284.3,  50. ,\n",
       "       164.5,  19.6, 168.4, 222.4, 276.9, 248.4, 170.2, 276.7, 165.6,\n",
       "       156.6, 218.5,  56.2, 287.6, 253.8, 205. , 139.5, 191.1, 286. ,\n",
       "        18.7,  39.5,  75.5,  17.2, 166.8, 149.7,  38.2,  94.2, 177. ,\n",
       "       283.6, 232.1])"
      ]
     },
     "execution_count": 5,
     "metadata": {},
     "output_type": "execute_result"
    }
   ],
   "source": [
    "x=data[\"TV\"].values\n",
    "print(x.shape)\n",
    "x"
   ]
  },
  {
   "cell_type": "code",
   "execution_count": 6,
   "metadata": {},
   "outputs": [
    {
     "name": "stdout",
     "output_type": "stream",
     "text": [
      "(200,)\n"
     ]
    }
   ],
   "source": [
    "y=data[\"sales\"].values\n",
    "print(y.shape)\n"
   ]
  },
  {
   "cell_type": "code",
   "execution_count": 7,
   "metadata": {},
   "outputs": [
    {
     "data": {
      "text/plain": [
       "147.0425"
      ]
     },
     "execution_count": 7,
     "metadata": {},
     "output_type": "execute_result"
    }
   ],
   "source": [
    "x_m=x.mean() \n",
    "x_m                                   #finding mean"
   ]
  },
  {
   "cell_type": "code",
   "execution_count": 8,
   "metadata": {},
   "outputs": [
    {
     "data": {
      "text/plain": [
       "14.0225"
      ]
     },
     "execution_count": 8,
     "metadata": {},
     "output_type": "execute_result"
    }
   ],
   "source": [
    "y_m=y.mean()\n",
    "y_m"
   ]
  },
  {
   "cell_type": "code",
   "execution_count": 9,
   "metadata": {},
   "outputs": [
    {
     "name": "stdout",
     "output_type": "stream",
     "text": [
      "slope: 0.04753664043301969\n",
      "intercept: 7.032593549127704\n"
     ]
    }
   ],
   "source": [
    "# calculating error\n",
    "n=len(x)                                      #y=b1x+b0 b1=slope,b0=intercept\n",
    "nume=0\n",
    "denom=0\n",
    "for i in range(n):\n",
    "    nume+=(x[i]-x_m)*(y[i]-y_m)\n",
    "    denom+=(x[i]-x_m)**2\n",
    "b1=nume/denom\n",
    "b0=y_m-(b1*x_m)\n",
    "print(\"slope:\",b1)\n",
    "print(\"intercept:\",b0)"
   ]
  },
  {
   "cell_type": "code",
   "execution_count": 10,
   "metadata": {},
   "outputs": [
    {
     "name": "stdout",
     "output_type": "stream",
     "text": [
      "linear equation :y=0.047537x+7.033\n"
     ]
    }
   ],
   "source": [
    "# y=mx+c\n",
    "print(\"linear equation :y={:.5}x+{:.4}\".format(b1,b0))"
   ]
  },
  {
   "cell_type": "code",
   "execution_count": 11,
   "metadata": {},
   "outputs": [
    {
     "data": {
      "text/plain": [
       "array([17.97077451,  9.14797405,  7.85022376, 14.23439457, 15.62721814,\n",
       "        7.44616232,  9.76595037, 12.74649773,  7.44140866, 16.53041431,\n",
       "       10.17476548, 17.23871025,  8.16396559, 11.66741599, 16.73482186,\n",
       "       16.32125309, 10.25557777, 20.40940417, 10.32212907, 14.03474068,\n",
       "       17.41459582, 18.31779199,  7.6600772 , 17.88520856,  9.99412625,\n",
       "       19.52997632, 13.82557947, 18.44614092, 18.85970969, 10.38868036,\n",
       "       20.95607553, 12.39948025, 11.653155  , 19.65832525, 11.58185004,\n",
       "       20.85149492, 19.72012288, 10.58358059,  9.08142275, 17.87094757,\n",
       "       16.65876324, 15.44657891, 20.98935118, 16.86792445,  8.22576322,\n",
       "       15.35625929, 11.2966302 , 18.43663359, 17.83291826, 10.21279479,\n",
       "       16.53041431, 11.80527225, 17.31952254, 15.71278409, 19.52046899,\n",
       "       16.48763133,  7.37961102, 13.50708398, 17.05331735, 17.04856369,\n",
       "        9.57580381, 19.45391769, 18.4081116 , 11.91460652, 13.26464711,\n",
       "       10.31262174,  8.52999772, 13.65444756, 18.31779199, 17.3385372 ,\n",
       "       16.49713866, 12.25211667,  8.30657551, 13.18383482, 17.17691262,\n",
       "        7.83596277,  8.33985116, 12.76075872,  7.28929141, 12.54684384,\n",
       "       10.66439288, 18.43187992, 10.61210257, 10.28409975, 17.18166628,\n",
       "       16.21667248, 10.65963921, 12.29489965, 11.2300789 , 12.25211667,\n",
       "       13.41676436,  8.39214147, 17.38132017, 18.95953663, 12.13802873,\n",
       "       14.79532693, 16.4258337 , 15.82211837, 20.80395828, 13.45954734,\n",
       "       17.60474238, 21.12245377, 20.3523602 , 15.96472829, 18.3558213 ,\n",
       "       13.58789626,  8.22100956, 11.32990584,  7.65532354, 19.17345152,\n",
       "       17.76636696, 18.52219954, 15.38478127, 16.99627338, 10.74995883,\n",
       "       10.60259525, 13.6496939 , 10.66439288, 13.00794925,  7.95480437,\n",
       "       13.74952084,  7.92628239, 17.68080101, 12.88435399, 17.94225253,\n",
       "       11.17778859,  7.40337934, 10.84503211, 17.50491544,  9.86577732,\n",
       "        7.0658692 , 19.63931059,  7.43190133, 17.48114712,  8.78669558,\n",
       "        9.32861328,  8.24953154, 20.04337204,  9.07666909, 15.82211837,\n",
       "       10.52178296, 16.2404408 , 17.51442276, 12.00492614, 11.60561836,\n",
       "       13.7019842 , 18.44614092, 18.5935045 ,  8.83898589,  9.15748138,\n",
       "       20.37612852, 12.78452704, 16.4258337 , 15.17562006, 15.95997462,\n",
       "        7.22749377, 11.49628409, 14.15358229,  7.58877224, 13.29316909,\n",
       "       15.23266402, 11.10648363, 15.98849661, 14.80483426, 12.60388781,\n",
       "       18.17993573,  7.88349941, 16.86317079, 17.2719859 , 20.54726042,\n",
       "        9.40942557, 14.8523709 ,  7.9643117 , 15.0377638 , 17.60474238,\n",
       "       20.19548929, 18.84069503, 15.12332975, 20.18598196, 14.9046612 ,\n",
       "       14.47683144, 17.41934948,  9.70415274, 20.70413134, 19.09739289,\n",
       "       16.77760484, 13.66395489, 16.11684554, 20.62807271,  7.92152873,\n",
       "        8.91029085, 10.6216099 ,  7.85022376, 14.96170517, 14.14882862,\n",
       "        8.84849321, 11.51054508, 15.44657891, 20.51398478, 18.06584779])"
      ]
     },
     "execution_count": 11,
     "metadata": {},
     "output_type": "execute_result"
    }
   ],
   "source": [
    "y_p=b1*x+b0                                  # Y-predictions\n",
    "y_p"
   ]
  },
  {
   "cell_type": "code",
   "execution_count": 12,
   "metadata": {},
   "outputs": [
    {
     "data": {
      "text/plain": [
       "array([17.97077451,  9.14797405,  7.85022376, 14.23439457, 15.62721814,\n",
       "        7.44616232,  9.76595037, 12.74649773,  7.44140866, 16.53041431,\n",
       "       10.17476548, 17.23871025,  8.16396559, 11.66741599, 16.73482186,\n",
       "       16.32125309, 10.25557777, 20.40940417, 10.32212907, 14.03474068,\n",
       "       17.41459582, 18.31779199,  7.6600772 , 17.88520856,  9.99412625,\n",
       "       19.52997632, 13.82557947, 18.44614092, 18.85970969, 10.38868036,\n",
       "       20.95607553, 12.39948025, 11.653155  , 19.65832525, 11.58185004,\n",
       "       20.85149492, 19.72012288, 10.58358059,  9.08142275, 17.87094757,\n",
       "       16.65876324, 15.44657891, 20.98935118, 16.86792445,  8.22576322,\n",
       "       15.35625929, 11.2966302 , 18.43663359, 17.83291826, 10.21279479,\n",
       "       16.53041431, 11.80527225, 17.31952254, 15.71278409, 19.52046899,\n",
       "       16.48763133,  7.37961102, 13.50708398, 17.05331735, 17.04856369,\n",
       "        9.57580381, 19.45391769, 18.4081116 , 11.91460652, 13.26464711,\n",
       "       10.31262174,  8.52999772, 13.65444756, 18.31779199, 17.3385372 ,\n",
       "       16.49713866, 12.25211667,  8.30657551, 13.18383482, 17.17691262,\n",
       "        7.83596277,  8.33985116, 12.76075872,  7.28929141, 12.54684384,\n",
       "       10.66439288, 18.43187992, 10.61210257, 10.28409975, 17.18166628,\n",
       "       16.21667248, 10.65963921, 12.29489965, 11.2300789 , 12.25211667,\n",
       "       13.41676436,  8.39214147, 17.38132017, 18.95953663, 12.13802873,\n",
       "       14.79532693, 16.4258337 , 15.82211837, 20.80395828, 13.45954734,\n",
       "       17.60474238, 21.12245377, 20.3523602 , 15.96472829, 18.3558213 ,\n",
       "       13.58789626,  8.22100956, 11.32990584,  7.65532354, 19.17345152,\n",
       "       17.76636696, 18.52219954, 15.38478127, 16.99627338, 10.74995883,\n",
       "       10.60259525, 13.6496939 , 10.66439288, 13.00794925,  7.95480437,\n",
       "       13.74952084,  7.92628239, 17.68080101, 12.88435399, 17.94225253,\n",
       "       11.17778859,  7.40337934, 10.84503211, 17.50491544,  9.86577732,\n",
       "        7.0658692 , 19.63931059,  7.43190133, 17.48114712,  8.78669558,\n",
       "        9.32861328,  8.24953154, 20.04337204,  9.07666909, 15.82211837,\n",
       "       10.52178296, 16.2404408 , 17.51442276, 12.00492614, 11.60561836,\n",
       "       13.7019842 , 18.44614092, 18.5935045 ,  8.83898589,  9.15748138,\n",
       "       20.37612852, 12.78452704, 16.4258337 , 15.17562006, 15.95997462,\n",
       "        7.22749377, 11.49628409, 14.15358229,  7.58877224, 13.29316909,\n",
       "       15.23266402, 11.10648363, 15.98849661, 14.80483426, 12.60388781,\n",
       "       18.17993573,  7.88349941, 16.86317079, 17.2719859 , 20.54726042,\n",
       "        9.40942557, 14.8523709 ,  7.9643117 , 15.0377638 , 17.60474238,\n",
       "       20.19548929, 18.84069503, 15.12332975, 20.18598196, 14.9046612 ,\n",
       "       14.47683144, 17.41934948,  9.70415274, 20.70413134, 19.09739289,\n",
       "       16.77760484, 13.66395489, 16.11684554, 20.62807271,  7.92152873,\n",
       "        8.91029085, 10.6216099 ,  7.85022376, 14.96170517, 14.14882862,\n",
       "        8.84849321, 11.51054508, 15.44657891, 20.51398478, 18.06584779])"
      ]
     },
     "execution_count": 12,
     "metadata": {},
     "output_type": "execute_result"
    }
   ],
   "source": [
    "y_p=b1*x+b0                                  # Y-predictions\n",
    "y_p"
   ]
  },
  {
   "cell_type": "code",
   "execution_count": 13,
   "metadata": {},
   "outputs": [
    {
     "name": "stdout",
     "output_type": "stream",
     "text": [
      "re score: 0.3881249491499301\n"
     ]
    }
   ],
   "source": [
    "# R-Squared error\n",
    "n1=0\n",
    "d1=0\n",
    "for i in range(n):\n",
    "    n1+=(y_p[i]-y_m)**2\n",
    "    d1+=(y[i]-y_m)**2\n",
    "r2=1-n1/d1\n",
    "print(\"re score:\",r2)"
   ]
  },
  {
   "cell_type": "code",
   "execution_count": 14,
   "metadata": {},
   "outputs": [
    {
     "data": {
      "text/plain": [
       "<matplotlib.collections.PathCollection at 0xa1e9d9fc88>"
      ]
     },
     "execution_count": 14,
     "metadata": {},
     "output_type": "execute_result"
    },
    {
     "data": {
      "image/png": "[encoded data removed]",
      "text/plain": [
       "<Figure size 432x288 with 1 Axes>"
      ]
     },
     "metadata": {
      "needs_background": "light"
     },
     "output_type": "display_data"
    }
   ],
   "source": [
    "plt.scatter(x,y_p,color=\"g\")"
   ]
  },
  {
   "cell_type": "code",
   "execution_count": 15,
   "metadata": {},
   "outputs": [
    {
     "data": {
      "text/plain": [
       "<matplotlib.legend.Legend at 0xa1ea086fd0>"
      ]
     },
     "execution_count": 15,
     "metadata": {},
     "output_type": "execute_result"
    },
    {
     "data": {
      "image/png": "[encoded data removed]",
      "text/plain": [
       "<Figure size 432x288 with 1 Axes>"
      ]
     },
     "metadata": {
      "needs_background": "light"
     },
     "output_type": "display_data"
    }
   ],
   "source": [
    "plt.scatter(x,y_p,label=\"linear wave\",color=\"b\")\n",
    "plt.xlabel(\"x\")\n",
    "plt.ylabel(\"y_predicted value\")\n",
    "plt.title(\"linear regression vth model including\")\n",
    "plt.legend()"
   ]
  },
  {
   "cell_type": "code",
   "execution_count": 16,
   "metadata": {},
   "outputs": [],
   "source": [
    "#sklearn\n",
    "from sklearn.linear_model import LinearRegression"
   ]
  },
  {
   "cell_type": "code",
   "execution_count": 17,
   "metadata": {},
   "outputs": [
    {
     "data": {
      "text/plain": [
       "array([[22.1],\n",
       "       [10.4],\n",
       "       [ 9.3],\n",
       "       [18.5],\n",
       "       [12.9],\n",
       "       [ 7.2],\n",
       "       [11.8],\n",
       "       [13.2],\n",
       "       [ 4.8],\n",
       "       [10.6],\n",
       "       [ 8.6],\n",
       "       [17.4],\n",
       "       [ 9.2],\n",
       "       [ 9.7],\n",
       "       [19. ],\n",
       "       [22.4],\n",
       "       [12.5],\n",
       "       [24.4],\n",
       "       [11.3],\n",
       "       [14.6],\n",
       "       [18. ],\n",
       "       [12.5],\n",
       "       [ 5.6],\n",
       "       [15.5],\n",
       "       [ 9.7],\n",
       "       [12. ],\n",
       "       [15. ],\n",
       "       [15.9],\n",
       "       [18.9],\n",
       "       [10.5],\n",
       "       [21.4],\n",
       "       [11.9],\n",
       "       [ 9.6],\n",
       "       [17.4],\n",
       "       [ 9.5],\n",
       "       [12.8],\n",
       "       [25.4],\n",
       "       [14.7],\n",
       "       [10.1],\n",
       "       [21.5],\n",
       "       [16.6],\n",
       "       [17.1],\n",
       "       [20.7],\n",
       "       [12.9],\n",
       "       [ 8.5],\n",
       "       [14.9],\n",
       "       [10.6],\n",
       "       [23.2],\n",
       "       [14.8],\n",
       "       [ 9.7],\n",
       "       [11.4],\n",
       "       [10.7],\n",
       "       [22.6],\n",
       "       [21.2],\n",
       "       [20.2],\n",
       "       [23.7],\n",
       "       [ 5.5],\n",
       "       [13.2],\n",
       "       [23.8],\n",
       "       [18.4],\n",
       "       [ 8.1],\n",
       "       [24.2],\n",
       "       [15.7],\n",
       "       [14. ],\n",
       "       [18. ],\n",
       "       [ 9.3],\n",
       "       [ 9.5],\n",
       "       [13.4],\n",
       "       [18.9],\n",
       "       [22.3],\n",
       "       [18.3],\n",
       "       [12.4],\n",
       "       [ 8.8],\n",
       "       [11. ],\n",
       "       [17. ],\n",
       "       [ 8.7],\n",
       "       [ 6.9],\n",
       "       [14.2],\n",
       "       [ 5.3],\n",
       "       [11. ],\n",
       "       [11.8],\n",
       "       [12.3],\n",
       "       [11.3],\n",
       "       [13.6],\n",
       "       [21.7],\n",
       "       [15.2],\n",
       "       [12. ],\n",
       "       [16. ],\n",
       "       [12.9],\n",
       "       [16.7],\n",
       "       [11.2],\n",
       "       [ 7.3],\n",
       "       [19.4],\n",
       "       [22.2],\n",
       "       [11.5],\n",
       "       [16.9],\n",
       "       [11.7],\n",
       "       [15.5],\n",
       "       [25.4],\n",
       "       [17.2],\n",
       "       [11.7],\n",
       "       [23.8],\n",
       "       [14.8],\n",
       "       [14.7],\n",
       "       [20.7],\n",
       "       [19.2],\n",
       "       [ 7.2],\n",
       "       [ 8.7],\n",
       "       [ 5.3],\n",
       "       [19.8],\n",
       "       [13.4],\n",
       "       [21.8],\n",
       "       [14.1],\n",
       "       [15.9],\n",
       "       [14.6],\n",
       "       [12.6],\n",
       "       [12.2],\n",
       "       [ 9.4],\n",
       "       [15.9],\n",
       "       [ 6.6],\n",
       "       [15.5],\n",
       "       [ 7. ],\n",
       "       [11.6],\n",
       "       [15.2],\n",
       "       [19.7],\n",
       "       [10.6],\n",
       "       [ 6.6],\n",
       "       [ 8.8],\n",
       "       [24.7],\n",
       "       [ 9.7],\n",
       "       [ 1.6],\n",
       "       [12.7],\n",
       "       [ 5.7],\n",
       "       [19.6],\n",
       "       [10.8],\n",
       "       [11.6],\n",
       "       [ 9.5],\n",
       "       [20.8],\n",
       "       [ 9.6],\n",
       "       [20.7],\n",
       "       [10.9],\n",
       "       [19.2],\n",
       "       [20.1],\n",
       "       [10.4],\n",
       "       [11.4],\n",
       "       [10.3],\n",
       "       [13.2],\n",
       "       [25.4],\n",
       "       [10.9],\n",
       "       [10.1],\n",
       "       [16.1],\n",
       "       [11.6],\n",
       "       [16.6],\n",
       "       [19. ],\n",
       "       [15.6],\n",
       "       [ 3.2],\n",
       "       [15.3],\n",
       "       [10.1],\n",
       "       [ 7.3],\n",
       "       [12.9],\n",
       "       [14.4],\n",
       "       [13.3],\n",
       "       [14.9],\n",
       "       [18. ],\n",
       "       [11.9],\n",
       "       [11.9],\n",
       "       [ 8. ],\n",
       "       [12.2],\n",
       "       [17.1],\n",
       "       [15. ],\n",
       "       [ 8.4],\n",
       "       [14.5],\n",
       "       [ 7.6],\n",
       "       [11.7],\n",
       "       [11.5],\n",
       "       [27. ],\n",
       "       [20.2],\n",
       "       [11.7],\n",
       "       [11.8],\n",
       "       [12.6],\n",
       "       [10.5],\n",
       "       [12.2],\n",
       "       [ 8.7],\n",
       "       [26.2],\n",
       "       [17.6],\n",
       "       [22.6],\n",
       "       [10.3],\n",
       "       [17.3],\n",
       "       [15.9],\n",
       "       [ 6.7],\n",
       "       [10.8],\n",
       "       [ 9.9],\n",
       "       [ 5.9],\n",
       "       [19.6],\n",
       "       [17.3],\n",
       "       [ 7.6],\n",
       "       [ 9.7],\n",
       "       [12.8],\n",
       "       [25.5],\n",
       "       [13.4]])"
      ]
     },
     "execution_count": 17,
     "metadata": {},
     "output_type": "execute_result"
    }
   ],
   "source": [
    "r=data[\"sales\"].values.reshape(-1,1)\n",
    "r"
   ]
  },
  {
   "cell_type": "code",
   "execution_count": 18,
   "metadata": {},
   "outputs": [
    {
     "data": {
      "text/plain": [
       "array([[230.1],\n",
       "       [ 44.5],\n",
       "       [ 17.2],\n",
       "       [151.5],\n",
       "       [180.8],\n",
       "       [  8.7],\n",
       "       [ 57.5],\n",
       "       [120.2],\n",
       "       [  8.6],\n",
       "       [199.8],\n",
       "       [ 66.1],\n",
       "       [214.7],\n",
       "       [ 23.8],\n",
       "       [ 97.5],\n",
       "       [204.1],\n",
       "       [195.4],\n",
       "       [ 67.8],\n",
       "       [281.4],\n",
       "       [ 69.2],\n",
       "       [147.3],\n",
       "       [218.4],\n",
       "       [237.4],\n",
       "       [ 13.2],\n",
       "       [228.3],\n",
       "       [ 62.3],\n",
       "       [262.9],\n",
       "       [142.9],\n",
       "       [240.1],\n",
       "       [248.8],\n",
       "       [ 70.6],\n",
       "       [292.9],\n",
       "       [112.9],\n",
       "       [ 97.2],\n",
       "       [265.6],\n",
       "       [ 95.7],\n",
       "       [290.7],\n",
       "       [266.9],\n",
       "       [ 74.7],\n",
       "       [ 43.1],\n",
       "       [228. ],\n",
       "       [202.5],\n",
       "       [177. ],\n",
       "       [293.6],\n",
       "       [206.9],\n",
       "       [ 25.1],\n",
       "       [175.1],\n",
       "       [ 89.7],\n",
       "       [239.9],\n",
       "       [227.2],\n",
       "       [ 66.9],\n",
       "       [199.8],\n",
       "       [100.4],\n",
       "       [216.4],\n",
       "       [182.6],\n",
       "       [262.7],\n",
       "       [198.9],\n",
       "       [  7.3],\n",
       "       [136.2],\n",
       "       [210.8],\n",
       "       [210.7],\n",
       "       [ 53.5],\n",
       "       [261.3],\n",
       "       [239.3],\n",
       "       [102.7],\n",
       "       [131.1],\n",
       "       [ 69. ],\n",
       "       [ 31.5],\n",
       "       [139.3],\n",
       "       [237.4],\n",
       "       [216.8],\n",
       "       [199.1],\n",
       "       [109.8],\n",
       "       [ 26.8],\n",
       "       [129.4],\n",
       "       [213.4],\n",
       "       [ 16.9],\n",
       "       [ 27.5],\n",
       "       [120.5],\n",
       "       [  5.4],\n",
       "       [116. ],\n",
       "       [ 76.4],\n",
       "       [239.8],\n",
       "       [ 75.3],\n",
       "       [ 68.4],\n",
       "       [213.5],\n",
       "       [193.2],\n",
       "       [ 76.3],\n",
       "       [110.7],\n",
       "       [ 88.3],\n",
       "       [109.8],\n",
       "       [134.3],\n",
       "       [ 28.6],\n",
       "       [217.7],\n",
       "       [250.9],\n",
       "       [107.4],\n",
       "       [163.3],\n",
       "       [197.6],\n",
       "       [184.9],\n",
       "       [289.7],\n",
       "       [135.2],\n",
       "       [222.4],\n",
       "       [296.4],\n",
       "       [280.2],\n",
       "       [187.9],\n",
       "       [238.2],\n",
       "       [137.9],\n",
       "       [ 25. ],\n",
       "       [ 90.4],\n",
       "       [ 13.1],\n",
       "       [255.4],\n",
       "       [225.8],\n",
       "       [241.7],\n",
       "       [175.7],\n",
       "       [209.6],\n",
       "       [ 78.2],\n",
       "       [ 75.1],\n",
       "       [139.2],\n",
       "       [ 76.4],\n",
       "       [125.7],\n",
       "       [ 19.4],\n",
       "       [141.3],\n",
       "       [ 18.8],\n",
       "       [224. ],\n",
       "       [123.1],\n",
       "       [229.5],\n",
       "       [ 87.2],\n",
       "       [  7.8],\n",
       "       [ 80.2],\n",
       "       [220.3],\n",
       "       [ 59.6],\n",
       "       [  0.7],\n",
       "       [265.2],\n",
       "       [  8.4],\n",
       "       [219.8],\n",
       "       [ 36.9],\n",
       "       [ 48.3],\n",
       "       [ 25.6],\n",
       "       [273.7],\n",
       "       [ 43. ],\n",
       "       [184.9],\n",
       "       [ 73.4],\n",
       "       [193.7],\n",
       "       [220.5],\n",
       "       [104.6],\n",
       "       [ 96.2],\n",
       "       [140.3],\n",
       "       [240.1],\n",
       "       [243.2],\n",
       "       [ 38. ],\n",
       "       [ 44.7],\n",
       "       [280.7],\n",
       "       [121. ],\n",
       "       [197.6],\n",
       "       [171.3],\n",
       "       [187.8],\n",
       "       [  4.1],\n",
       "       [ 93.9],\n",
       "       [149.8],\n",
       "       [ 11.7],\n",
       "       [131.7],\n",
       "       [172.5],\n",
       "       [ 85.7],\n",
       "       [188.4],\n",
       "       [163.5],\n",
       "       [117.2],\n",
       "       [234.5],\n",
       "       [ 17.9],\n",
       "       [206.8],\n",
       "       [215.4],\n",
       "       [284.3],\n",
       "       [ 50. ],\n",
       "       [164.5],\n",
       "       [ 19.6],\n",
       "       [168.4],\n",
       "       [222.4],\n",
       "       [276.9],\n",
       "       [248.4],\n",
       "       [170.2],\n",
       "       [276.7],\n",
       "       [165.6],\n",
       "       [156.6],\n",
       "       [218.5],\n",
       "       [ 56.2],\n",
       "       [287.6],\n",
       "       [253.8],\n",
       "       [205. ],\n",
       "       [139.5],\n",
       "       [191.1],\n",
       "       [286. ],\n",
       "       [ 18.7],\n",
       "       [ 39.5],\n",
       "       [ 75.5],\n",
       "       [ 17.2],\n",
       "       [166.8],\n",
       "       [149.7],\n",
       "       [ 38.2],\n",
       "       [ 94.2],\n",
       "       [177. ],\n",
       "       [283.6],\n",
       "       [232.1]])"
      ]
     },
     "execution_count": 18,
     "metadata": {},
     "output_type": "execute_result"
    }
   ],
   "source": [
    "x=data[\"TV\"].values.reshape(-1,1)\n",
    "x"
   ]
  },
  {
   "cell_type": "code",
   "execution_count": 19,
   "metadata": {},
   "outputs": [
    {
     "data": {
      "text/plain": [
       "LinearRegression(copy_X=True, fit_intercept=True, n_jobs=None, normalize=False)"
      ]
     },
     "execution_count": 19,
     "metadata": {},
     "output_type": "execute_result"
    }
   ],
   "source": [
    "rg=LinearRegression()\n",
    "rg.fit(x,y)"
   ]
  },
  {
   "cell_type": "code",
   "execution_count": 20,
   "metadata": {},
   "outputs": [
    {
     "data": {
      "text/plain": [
       "array([0.04753664])"
      ]
     },
     "execution_count": 20,
     "metadata": {},
     "output_type": "execute_result"
    }
   ],
   "source": [
    "rg.coef_"
   ]
  },
  {
   "cell_type": "code",
   "execution_count": 21,
   "metadata": {},
   "outputs": [
    {
     "data": {
      "text/plain": [
       "7.032593549127693"
      ]
     },
     "execution_count": 21,
     "metadata": {},
     "output_type": "execute_result"
    }
   ],
   "source": [
    "rg.intercept_"
   ]
  },
  {
   "cell_type": "code",
   "execution_count": 23,
   "metadata": {},
   "outputs": [
    {
     "name": "stdout",
     "output_type": "stream",
     "text": [
      "0.611875050850071\n"
     ]
    }
   ],
   "source": [
    "score=rg.score(x,y)\n",
    "print(score)"
   ]
  },
  {
   "cell_type": "code",
   "execution_count": 24,
   "metadata": {},
   "outputs": [
    {
     "data": {
      "image/png": "[encoded data removed]",
      "text/plain": [
       "<Figure size 432x288 with 1 Axes>"
      ]
     },
     "metadata": {
      "needs_background": "light"
     },
     "output_type": "display_data"
    }
   ],
   "source": [
    "import matplotlib.pyplot as plt\n",
    "plt.scatter(x,y,c='m',label='before prediction')\n",
    "plt.plot(x,y_p,c='r',label='Linear Regression')\n",
    "plt.xlabel('x')\n",
    "plt.ylabel('y')\n",
    "plt.title('Linear Regression Model')\n",
    "plt.legend(loc='best')\n",
    "plt.show()"
   ]
  },
  {
   "cell_type": "code",
   "execution_count": 37,
   "metadata": {},
   "outputs": [],
   "source": [
    "#Polynomial-----Multiple degree=ax2+bx+c\n",
    "from sklearn.preprocessing import PolynomialFeatures\n"
   ]
  },
  {
   "cell_type": "code",
   "execution_count": 26,
   "metadata": {},
   "outputs": [
    {
     "name": "stdout",
     "output_type": "stream",
     "text": [
      "(100, 1)\n"
     ]
    }
   ],
   "source": [
    "x1=np.random.rand(100,1)\n",
    "y1=0.5*x1+x1**2+np.random.rand(100,1) #y=ax2+bx+c\n",
    "print(x1.shape)"
   ]
  },
  {
   "cell_type": "code",
   "execution_count": 27,
   "metadata": {},
   "outputs": [
    {
     "name": "stdout",
     "output_type": "stream",
     "text": [
      "(100, 1)\n"
     ]
    }
   ],
   "source": [
    "print(y1.shape)"
   ]
  },
  {
   "cell_type": "code",
   "execution_count": 29,
   "metadata": {},
   "outputs": [
    {
     "data": {
      "text/plain": [
       "[<matplotlib.lines.Line2D at 0xa1ef7cc908>]"
      ]
     },
     "execution_count": 29,
     "metadata": {},
     "output_type": "execute_result"
    },
    {
     "data": {
      "image/png": "[encoded data removed]",
      "text/plain": [
       "<Figure size 432x288 with 1 Axes>"
      ]
     },
     "metadata": {
      "needs_background": "light"
     },
     "output_type": "display_data"
    }
   ],
   "source": [
    "plt.plot(x1,y1,'.')"
   ]
  },
  {
   "cell_type": "code",
   "execution_count": 76,
   "metadata": {},
   "outputs": [
    {
     "name": "stdout",
     "output_type": "stream",
     "text": [
      "[[4.93974973]\n",
      " [2.73138232]\n",
      " [3.36762743]\n",
      " [1.74845045]\n",
      " [3.11288994]\n",
      " [4.27412323]\n",
      " [5.92562966]\n",
      " [0.05575031]\n",
      " [5.3689683 ]\n",
      " [0.52354089]\n",
      " [3.092753  ]\n",
      " [2.08332597]\n",
      " [3.47261587]\n",
      " [2.55127927]\n",
      " [1.73035132]\n",
      " [0.01746768]\n",
      " [3.62944082]\n",
      " [5.48249492]\n",
      " [1.44690592]\n",
      " [5.47170883]\n",
      " [5.8131633 ]\n",
      " [5.62985234]\n",
      " [5.38904234]\n",
      " [2.24631346]\n",
      " [3.01586469]\n",
      " [3.92701508]\n",
      " [5.42990872]\n",
      " [0.7443297 ]\n",
      " [1.45831074]\n",
      " [3.5923674 ]\n",
      " [0.40535524]\n",
      " [5.63710453]\n",
      " [4.51882508]\n",
      " [3.04928999]\n",
      " [4.14313254]\n",
      " [0.80951629]\n",
      " [2.80284639]\n",
      " [5.37446932]\n",
      " [0.51335839]\n",
      " [5.28924131]\n",
      " [2.69670642]\n",
      " [4.90297448]\n",
      " [0.81901234]\n",
      " [4.37124954]\n",
      " [2.36373544]\n",
      " [2.60836648]\n",
      " [1.06588296]\n",
      " [4.93181899]\n",
      " [4.37806505]\n",
      " [5.25407923]\n",
      " [3.55624518]\n",
      " [3.15854198]\n",
      " [4.81250424]\n",
      " [4.24031604]\n",
      " [5.16566956]\n",
      " [4.94769649]\n",
      " [1.1286727 ]\n",
      " [0.18747795]\n",
      " [0.70839674]\n",
      " [3.0789598 ]\n",
      " [0.15227065]\n",
      " [4.7424052 ]\n",
      " [5.63033084]\n",
      " [5.75735534]\n",
      " [3.77616031]\n",
      " [1.31803132]\n",
      " [2.49244207]\n",
      " [4.42701067]\n",
      " [5.73468917]\n",
      " [5.38188288]\n",
      " [0.5078101 ]\n",
      " [2.70595312]\n",
      " [3.10026103]\n",
      " [2.34870345]\n",
      " [5.87020375]\n",
      " [2.24116581]\n",
      " [5.63482543]\n",
      " [3.1958108 ]\n",
      " [5.60091878]\n",
      " [3.29415656]\n",
      " [0.58717634]\n",
      " [0.2774312 ]\n",
      " [4.54570147]\n",
      " [2.33125563]\n",
      " [1.93601372]\n",
      " [0.92309901]\n",
      " [0.68203108]\n",
      " [2.04110588]\n",
      " [5.84930033]\n",
      " [1.65007396]\n",
      " [5.30330841]\n",
      " [3.0312125 ]\n",
      " [2.9789041 ]\n",
      " [3.4851133 ]\n",
      " [0.05514064]\n",
      " [5.35814649]\n",
      " [3.67134502]\n",
      " [2.62021271]\n",
      " [0.78276181]\n",
      " [1.27799991]]\n",
      "[[4.93974973]\n",
      " [2.73138232]\n",
      " [3.36762743]\n",
      " [1.74845045]\n",
      " [3.11288994]\n",
      " [4.27412323]\n",
      " [5.92562966]\n",
      " [0.05575031]\n",
      " [5.3689683 ]\n",
      " [0.52354089]\n",
      " [3.092753  ]\n",
      " [2.08332597]\n",
      " [3.47261587]\n",
      " [2.55127927]\n",
      " [1.73035132]\n",
      " [0.01746768]\n",
      " [3.62944082]\n",
      " [5.48249492]\n",
      " [1.44690592]\n",
      " [5.47170883]\n",
      " [5.8131633 ]\n",
      " [5.62985234]\n",
      " [5.38904234]\n",
      " [2.24631346]\n",
      " [3.01586469]\n",
      " [3.92701508]\n",
      " [5.42990872]\n",
      " [0.7443297 ]\n",
      " [1.45831074]\n",
      " [3.5923674 ]\n",
      " [0.40535524]\n",
      " [5.63710453]\n",
      " [4.51882508]\n",
      " [3.04928999]\n",
      " [4.14313254]\n",
      " [0.80951629]\n",
      " [2.80284639]\n",
      " [5.37446932]\n",
      " [0.51335839]\n",
      " [5.28924131]\n",
      " [2.69670642]\n",
      " [4.90297448]\n",
      " [0.81901234]\n",
      " [4.37124954]\n",
      " [2.36373544]\n",
      " [2.60836648]\n",
      " [1.06588296]\n",
      " [4.93181899]\n",
      " [4.37806505]\n",
      " [5.25407923]\n",
      " [3.55624518]\n",
      " [3.15854198]\n",
      " [4.81250424]\n",
      " [4.24031604]\n",
      " [5.16566956]\n",
      " [4.94769649]\n",
      " [1.1286727 ]\n",
      " [0.18747795]\n",
      " [0.70839674]\n",
      " [3.0789598 ]\n",
      " [0.15227065]\n",
      " [4.7424052 ]\n",
      " [5.63033084]\n",
      " [5.75735534]\n",
      " [3.77616031]\n",
      " [1.31803132]\n",
      " [2.49244207]\n",
      " [4.42701067]\n",
      " [5.73468917]\n",
      " [5.38188288]\n",
      " [0.5078101 ]\n",
      " [2.70595312]\n",
      " [3.10026103]\n",
      " [2.34870345]\n",
      " [5.87020375]\n",
      " [2.24116581]\n",
      " [5.63482543]\n",
      " [3.1958108 ]\n",
      " [5.60091878]\n",
      " [3.29415656]\n",
      " [0.58717634]\n",
      " [0.2774312 ]\n",
      " [4.54570147]\n",
      " [2.33125563]\n",
      " [1.93601372]\n",
      " [0.92309901]\n",
      " [0.68203108]\n",
      " [2.04110588]\n",
      " [5.84930033]\n",
      " [1.65007396]\n",
      " [5.30330841]\n",
      " [3.0312125 ]\n",
      " [2.9789041 ]\n",
      " [3.4851133 ]\n",
      " [0.05514064]\n",
      " [5.35814649]\n",
      " [3.67134502]\n",
      " [2.62021271]\n",
      " [0.78276181]\n",
      " [1.27799991]]\n"
     ]
    }
   ],
   "source": [
    "x1=6*np.random.rand(100,1)\n",
    "y1=0.5*x1**2+x1*2+np.random.rand(100,1) #y=ax2+bx+c\n",
    "print(x1)\n",
    "print(x1)"
   ]
  },
  {
   "cell_type": "code",
   "execution_count": 80,
   "metadata": {},
   "outputs": [
    {
     "data": {
      "text/plain": [
       "[<matplotlib.lines.Line2D at 0xa1ef9c6208>]"
      ]
     },
     "execution_count": 80,
     "metadata": {},
     "output_type": "execute_result"
    },
    {
     "data": {
      "image/png": "[encoded data removed]",
      "text/plain": [
       "<Figure size 432x288 with 1 Axes>"
      ]
     },
     "metadata": {
      "needs_background": "light"
     },
     "output_type": "display_data"
    }
   ],
   "source": [
    "plt.plot(x1,y1,'.')"
   ]
  },
  {
   "cell_type": "code",
   "execution_count": 81,
   "metadata": {},
   "outputs": [],
   "source": [
    "poly=PolynomialFeatures()"
   ]
  },
  {
   "cell_type": "code",
   "execution_count": 82,
   "metadata": {},
   "outputs": [
    {
     "data": {
      "text/plain": [
       "array([[1.00000000e+00, 4.93974973e+00, 2.44011274e+01],\n",
       "       [1.00000000e+00, 2.73138232e+00, 7.46044936e+00],\n",
       "       [1.00000000e+00, 3.36762743e+00, 1.13409145e+01],\n",
       "       [1.00000000e+00, 1.74845045e+00, 3.05707899e+00],\n",
       "       [1.00000000e+00, 3.11288994e+00, 9.69008377e+00],\n",
       "       [1.00000000e+00, 4.27412323e+00, 1.82681294e+01],\n",
       "       [1.00000000e+00, 5.92562966e+00, 3.51130869e+01],\n",
       "       [1.00000000e+00, 5.57503073e-02, 3.10809676e-03],\n",
       "       [1.00000000e+00, 5.36896830e+00, 2.88258207e+01],\n",
       "       [1.00000000e+00, 5.23540886e-01, 2.74095059e-01],\n",
       "       [1.00000000e+00, 3.09275300e+00, 9.56512114e+00],\n",
       "       [1.00000000e+00, 2.08332597e+00, 4.34024709e+00],\n",
       "       [1.00000000e+00, 3.47261587e+00, 1.20590609e+01],\n",
       "       [1.00000000e+00, 2.55127927e+00, 6.50902592e+00],\n",
       "       [1.00000000e+00, 1.73035132e+00, 2.99411568e+00],\n",
       "       [1.00000000e+00, 1.74676807e-02, 3.05119868e-04],\n",
       "       [1.00000000e+00, 3.62944082e+00, 1.31728407e+01],\n",
       "       [1.00000000e+00, 5.48249492e+00, 3.00577505e+01],\n",
       "       [1.00000000e+00, 1.44690592e+00, 2.09353675e+00],\n",
       "       [1.00000000e+00, 5.47170883e+00, 2.99395975e+01],\n",
       "       [1.00000000e+00, 5.81316330e+00, 3.37928676e+01],\n",
       "       [1.00000000e+00, 5.62985234e+00, 3.16952373e+01],\n",
       "       [1.00000000e+00, 5.38904234e+00, 2.90417774e+01],\n",
       "       [1.00000000e+00, 2.24631346e+00, 5.04592417e+00],\n",
       "       [1.00000000e+00, 3.01586469e+00, 9.09543984e+00],\n",
       "       [1.00000000e+00, 3.92701508e+00, 1.54214474e+01],\n",
       "       [1.00000000e+00, 5.42990872e+00, 2.94839087e+01],\n",
       "       [1.00000000e+00, 7.44329702e-01, 5.54026705e-01],\n",
       "       [1.00000000e+00, 1.45831074e+00, 2.12667022e+00],\n",
       "       [1.00000000e+00, 3.59236740e+00, 1.29051035e+01],\n",
       "       [1.00000000e+00, 4.05355235e-01, 1.64312867e-01],\n",
       "       [1.00000000e+00, 5.63710453e+00, 3.17769475e+01],\n",
       "       [1.00000000e+00, 4.51882508e+00, 2.04197801e+01],\n",
       "       [1.00000000e+00, 3.04928999e+00, 9.29816944e+00],\n",
       "       [1.00000000e+00, 4.14313254e+00, 1.71655472e+01],\n",
       "       [1.00000000e+00, 8.09516295e-01, 6.55316632e-01],\n",
       "       [1.00000000e+00, 2.80284639e+00, 7.85594788e+00],\n",
       "       [1.00000000e+00, 5.37446932e+00, 2.88849205e+01],\n",
       "       [1.00000000e+00, 5.13358395e-01, 2.63536841e-01],\n",
       "       [1.00000000e+00, 5.28924131e+00, 2.79760737e+01],\n",
       "       [1.00000000e+00, 2.69670642e+00, 7.27222554e+00],\n",
       "       [1.00000000e+00, 4.90297448e+00, 2.40391588e+01],\n",
       "       [1.00000000e+00, 8.19012338e-01, 6.70781210e-01],\n",
       "       [1.00000000e+00, 4.37124954e+00, 1.91078225e+01],\n",
       "       [1.00000000e+00, 2.36373544e+00, 5.58724524e+00],\n",
       "       [1.00000000e+00, 2.60836648e+00, 6.80357569e+00],\n",
       "       [1.00000000e+00, 1.06588296e+00, 1.13610649e+00],\n",
       "       [1.00000000e+00, 4.93181899e+00, 2.43228385e+01],\n",
       "       [1.00000000e+00, 4.37806505e+00, 1.91674536e+01],\n",
       "       [1.00000000e+00, 5.25407923e+00, 2.76053486e+01],\n",
       "       [1.00000000e+00, 3.55624518e+00, 1.26468798e+01],\n",
       "       [1.00000000e+00, 3.15854198e+00, 9.97638745e+00],\n",
       "       [1.00000000e+00, 4.81250424e+00, 2.31601971e+01],\n",
       "       [1.00000000e+00, 4.24031604e+00, 1.79802802e+01],\n",
       "       [1.00000000e+00, 5.16566956e+00, 2.66841420e+01],\n",
       "       [1.00000000e+00, 4.94769649e+00, 2.44797005e+01],\n",
       "       [1.00000000e+00, 1.12867270e+00, 1.27390207e+00],\n",
       "       [1.00000000e+00, 1.87477951e-01, 3.51479821e-02],\n",
       "       [1.00000000e+00, 7.08396743e-01, 5.01825945e-01],\n",
       "       [1.00000000e+00, 3.07895980e+00, 9.47999346e+00],\n",
       "       [1.00000000e+00, 1.52270646e-01, 2.31863496e-02],\n",
       "       [1.00000000e+00, 4.74240520e+00, 2.24904071e+01],\n",
       "       [1.00000000e+00, 5.63033084e+00, 3.17006254e+01],\n",
       "       [1.00000000e+00, 5.75735534e+00, 3.31471406e+01],\n",
       "       [1.00000000e+00, 3.77616031e+00, 1.42593867e+01],\n",
       "       [1.00000000e+00, 1.31803132e+00, 1.73720656e+00],\n",
       "       [1.00000000e+00, 2.49244207e+00, 6.21226749e+00],\n",
       "       [1.00000000e+00, 4.42701067e+00, 1.95984234e+01],\n",
       "       [1.00000000e+00, 5.73468917e+00, 3.28866599e+01],\n",
       "       [1.00000000e+00, 5.38188288e+00, 2.89646633e+01],\n",
       "       [1.00000000e+00, 5.07810097e-01, 2.57871095e-01],\n",
       "       [1.00000000e+00, 2.70595312e+00, 7.32218229e+00],\n",
       "       [1.00000000e+00, 3.10026103e+00, 9.61161846e+00],\n",
       "       [1.00000000e+00, 2.34870345e+00, 5.51640788e+00],\n",
       "       [1.00000000e+00, 5.87020375e+00, 3.44592921e+01],\n",
       "       [1.00000000e+00, 2.24116581e+00, 5.02282420e+00],\n",
       "       [1.00000000e+00, 5.63482543e+00, 3.17512576e+01],\n",
       "       [1.00000000e+00, 3.19581080e+00, 1.02132067e+01],\n",
       "       [1.00000000e+00, 5.60091878e+00, 3.13702912e+01],\n",
       "       [1.00000000e+00, 3.29415656e+00, 1.08514674e+01],\n",
       "       [1.00000000e+00, 5.87176344e-01, 3.44776059e-01],\n",
       "       [1.00000000e+00, 2.77431198e-01, 7.69680698e-02],\n",
       "       [1.00000000e+00, 4.54570147e+00, 2.06634019e+01],\n",
       "       [1.00000000e+00, 2.33125563e+00, 5.43475280e+00],\n",
       "       [1.00000000e+00, 1.93601372e+00, 3.74814912e+00],\n",
       "       [1.00000000e+00, 9.23099010e-01, 8.52111783e-01],\n",
       "       [1.00000000e+00, 6.82031075e-01, 4.65166388e-01],\n",
       "       [1.00000000e+00, 2.04110588e+00, 4.16611321e+00],\n",
       "       [1.00000000e+00, 5.84930033e+00, 3.42143144e+01],\n",
       "       [1.00000000e+00, 1.65007396e+00, 2.72274407e+00],\n",
       "       [1.00000000e+00, 5.30330841e+00, 2.81250801e+01],\n",
       "       [1.00000000e+00, 3.03121250e+00, 9.18824924e+00],\n",
       "       [1.00000000e+00, 2.97890410e+00, 8.87386964e+00],\n",
       "       [1.00000000e+00, 3.48511330e+00, 1.21460147e+01],\n",
       "       [1.00000000e+00, 5.51406388e-02, 3.04049005e-03],\n",
       "       [1.00000000e+00, 5.35814649e+00, 2.87097338e+01],\n",
       "       [1.00000000e+00, 3.67134502e+00, 1.34787742e+01],\n",
       "       [1.00000000e+00, 2.62021271e+00, 6.86551466e+00],\n",
       "       [1.00000000e+00, 7.82761809e-01, 6.12716050e-01],\n",
       "       [1.00000000e+00, 1.27799991e+00, 1.63328377e+00]])"
      ]
     },
     "execution_count": 82,
     "metadata": {},
     "output_type": "execute_result"
    }
   ],
   "source": [
    "x_poly=poly.fit_transform(x1)\n",
    "x_poly"
   ]
  },
  {
   "cell_type": "code",
   "execution_count": 83,
   "metadata": {},
   "outputs": [
    {
     "data": {
      "text/plain": [
       "array([4.93974973])"
      ]
     },
     "execution_count": 83,
     "metadata": {},
     "output_type": "execute_result"
    }
   ],
   "source": [
    "x1[0]"
   ]
  },
  {
   "cell_type": "code",
   "execution_count": 84,
   "metadata": {},
   "outputs": [
    {
     "data": {
      "text/plain": [
       "array([ 1.        ,  4.93974973, 24.4011274 ])"
      ]
     },
     "execution_count": 84,
     "metadata": {},
     "output_type": "execute_result"
    }
   ],
   "source": [
    "x_poly[0]"
   ]
  },
  {
   "cell_type": "code",
   "execution_count": 85,
   "metadata": {},
   "outputs": [],
   "source": [
    "poly=PolynomialFeatures(degree=1)"
   ]
  },
  {
   "cell_type": "code",
   "execution_count": 86,
   "metadata": {},
   "outputs": [
    {
     "data": {
      "text/plain": [
       "array([[1.        , 4.93974973],\n",
       "       [1.        , 2.73138232],\n",
       "       [1.        , 3.36762743],\n",
       "       [1.        , 1.74845045],\n",
       "       [1.        , 3.11288994],\n",
       "       [1.        , 4.27412323],\n",
       "       [1.        , 5.92562966],\n",
       "       [1.        , 0.05575031],\n",
       "       [1.        , 5.3689683 ],\n",
       "       [1.        , 0.52354089],\n",
       "       [1.        , 3.092753  ],\n",
       "       [1.        , 2.08332597],\n",
       "       [1.        , 3.47261587],\n",
       "       [1.        , 2.55127927],\n",
       "       [1.        , 1.73035132],\n",
       "       [1.        , 0.01746768],\n",
       "       [1.        , 3.62944082],\n",
       "       [1.        , 5.48249492],\n",
       "       [1.        , 1.44690592],\n",
       "       [1.        , 5.47170883],\n",
       "       [1.        , 5.8131633 ],\n",
       "       [1.        , 5.62985234],\n",
       "       [1.        , 5.38904234],\n",
       "       [1.        , 2.24631346],\n",
       "       [1.        , 3.01586469],\n",
       "       [1.        , 3.92701508],\n",
       "       [1.        , 5.42990872],\n",
       "       [1.        , 0.7443297 ],\n",
       "       [1.        , 1.45831074],\n",
       "       [1.        , 3.5923674 ],\n",
       "       [1.        , 0.40535524],\n",
       "       [1.        , 5.63710453],\n",
       "       [1.        , 4.51882508],\n",
       "       [1.        , 3.04928999],\n",
       "       [1.        , 4.14313254],\n",
       "       [1.        , 0.80951629],\n",
       "       [1.        , 2.80284639],\n",
       "       [1.        , 5.37446932],\n",
       "       [1.        , 0.51335839],\n",
       "       [1.        , 5.28924131],\n",
       "       [1.        , 2.69670642],\n",
       "       [1.        , 4.90297448],\n",
       "       [1.        , 0.81901234],\n",
       "       [1.        , 4.37124954],\n",
       "       [1.        , 2.36373544],\n",
       "       [1.        , 2.60836648],\n",
       "       [1.        , 1.06588296],\n",
       "       [1.        , 4.93181899],\n",
       "       [1.        , 4.37806505],\n",
       "       [1.        , 5.25407923],\n",
       "       [1.        , 3.55624518],\n",
       "       [1.        , 3.15854198],\n",
       "       [1.        , 4.81250424],\n",
       "       [1.        , 4.24031604],\n",
       "       [1.        , 5.16566956],\n",
       "       [1.        , 4.94769649],\n",
       "       [1.        , 1.1286727 ],\n",
       "       [1.        , 0.18747795],\n",
       "       [1.        , 0.70839674],\n",
       "       [1.        , 3.0789598 ],\n",
       "       [1.        , 0.15227065],\n",
       "       [1.        , 4.7424052 ],\n",
       "       [1.        , 5.63033084],\n",
       "       [1.        , 5.75735534],\n",
       "       [1.        , 3.77616031],\n",
       "       [1.        , 1.31803132],\n",
       "       [1.        , 2.49244207],\n",
       "       [1.        , 4.42701067],\n",
       "       [1.        , 5.73468917],\n",
       "       [1.        , 5.38188288],\n",
       "       [1.        , 0.5078101 ],\n",
       "       [1.        , 2.70595312],\n",
       "       [1.        , 3.10026103],\n",
       "       [1.        , 2.34870345],\n",
       "       [1.        , 5.87020375],\n",
       "       [1.        , 2.24116581],\n",
       "       [1.        , 5.63482543],\n",
       "       [1.        , 3.1958108 ],\n",
       "       [1.        , 5.60091878],\n",
       "       [1.        , 3.29415656],\n",
       "       [1.        , 0.58717634],\n",
       "       [1.        , 0.2774312 ],\n",
       "       [1.        , 4.54570147],\n",
       "       [1.        , 2.33125563],\n",
       "       [1.        , 1.93601372],\n",
       "       [1.        , 0.92309901],\n",
       "       [1.        , 0.68203108],\n",
       "       [1.        , 2.04110588],\n",
       "       [1.        , 5.84930033],\n",
       "       [1.        , 1.65007396],\n",
       "       [1.        , 5.30330841],\n",
       "       [1.        , 3.0312125 ],\n",
       "       [1.        , 2.9789041 ],\n",
       "       [1.        , 3.4851133 ],\n",
       "       [1.        , 0.05514064],\n",
       "       [1.        , 5.35814649],\n",
       "       [1.        , 3.67134502],\n",
       "       [1.        , 2.62021271],\n",
       "       [1.        , 0.78276181],\n",
       "       [1.        , 1.27799991]])"
      ]
     },
     "execution_count": 86,
     "metadata": {},
     "output_type": "execute_result"
    }
   ],
   "source": [
    "x_poly=poly.fit_transform(x1)\n",
    "x_poly"
   ]
  },
  {
   "cell_type": "code",
   "execution_count": 87,
   "metadata": {},
   "outputs": [
    {
     "data": {
      "text/plain": [
       "array([1.74845045])"
      ]
     },
     "execution_count": 87,
     "metadata": {},
     "output_type": "execute_result"
    }
   ],
   "source": [
    "x1[3]"
   ]
  },
  {
   "cell_type": "code",
   "execution_count": 88,
   "metadata": {},
   "outputs": [
    {
     "data": {
      "text/plain": [
       "array([1.        , 1.74845045])"
      ]
     },
     "execution_count": 88,
     "metadata": {},
     "output_type": "execute_result"
    }
   ],
   "source": [
    "x_poly[3]"
   ]
  },
  {
   "cell_type": "code",
   "execution_count": 89,
   "metadata": {},
   "outputs": [
    {
     "ename": "NameError",
     "evalue": "name 'x_ploy' is not defined",
     "output_type": "error",
     "traceback": [
      "\u001b[1;31m---------------------------------------------------------------------------\u001b[0m",
      "\u001b[1;31mNameError\u001b[0m                                 Traceback (most recent call last)",
      "\u001b[1;32m<ipython-input-89-c3b6596d97e0>\u001b[0m in \u001b[0;36m<module>\u001b[1;34m\u001b[0m\n\u001b[1;32m----> 1\u001b[1;33m \u001b[0mpoly\u001b[0m\u001b[1;33m.\u001b[0m\u001b[0mfit\u001b[0m\u001b[1;33m(\u001b[0m\u001b[0mx_ploy\u001b[0m\u001b[1;33m,\u001b[0m\u001b[0my1\u001b[0m\u001b[1;33m)\u001b[0m\u001b[1;33m\u001b[0m\u001b[1;33m\u001b[0m\u001b[0m\n\u001b[0m",
      "\u001b[1;31mNameError\u001b[0m: name 'x_ploy' is not defined"
     ]
    }
   ],
   "source": [
    "poly.fit(x_ploy,y1)"
   ]
  },
  {
   "cell_type": "code",
   "execution_count": 90,
   "metadata": {},
   "outputs": [],
   "source": [
    "from sklearn.linear_model import LinearRegression\n",
    "lin=LinearRegression()"
   ]
  },
  {
   "cell_type": "code",
   "execution_count": 91,
   "metadata": {},
   "outputs": [
    {
     "data": {
      "text/plain": [
       "LinearRegression(copy_X=True, fit_intercept=True, n_jobs=None, normalize=False)"
      ]
     },
     "execution_count": 91,
     "metadata": {},
     "output_type": "execute_result"
    }
   ],
   "source": [
    "lin.fit(x_poly,y1)"
   ]
  },
  {
   "cell_type": "code",
   "execution_count": 92,
   "metadata": {},
   "outputs": [
    {
     "data": {
      "text/plain": [
       "array([-2.53519978])"
      ]
     },
     "execution_count": 92,
     "metadata": {},
     "output_type": "execute_result"
    }
   ],
   "source": [
    "lin.intercept_"
   ]
  },
  {
   "cell_type": "code",
   "execution_count": 93,
   "metadata": {},
   "outputs": [
    {
     "data": {
      "text/plain": [
       "array([[0.        , 5.07437789]])"
      ]
     },
     "execution_count": 93,
     "metadata": {},
     "output_type": "execute_result"
    }
   ],
   "source": [
    "lin.coef_"
   ]
  },
  {
   "cell_type": "code",
   "execution_count": 95,
   "metadata": {},
   "outputs": [
    {
     "data": {
      "text/plain": [
       "array([[22.53095702],\n",
       "       [11.32486625],\n",
       "       [14.55341437],\n",
       "       [ 6.33709855],\n",
       "       [13.26078009],\n",
       "       [19.15331664],\n",
       "       [27.53368433],\n",
       "       [-2.25230165],\n",
       "       [24.70897426],\n",
       "       [ 0.12144452],\n",
       "       [13.15859767],\n",
       "       [ 8.03638344],\n",
       "       [15.08616538],\n",
       "       [10.41095534],\n",
       "       [ 6.24525668],\n",
       "       [-2.44656217],\n",
       "       [15.88195446],\n",
       "       [25.28505119],\n",
       "       [ 4.80694764],\n",
       "       [25.23031852],\n",
       "       [26.96298755],\n",
       "       [26.03279842],\n",
       "       [24.81083752],\n",
       "       [ 8.86344359],\n",
       "       [12.76843733],\n",
       "       [17.39195869],\n",
       "       [25.01820897],\n",
       "       [ 1.2418104 ],\n",
       "       [ 4.86482   ],\n",
       "       [15.69382989],\n",
       "       [-0.47827414],\n",
       "       [26.06959878],\n",
       "       [20.39502626],\n",
       "       [12.93804991],\n",
       "       [18.48862036],\n",
       "       [ 1.57259181],\n",
       "       [11.68750196],\n",
       "       [24.73688849],\n",
       "       [ 0.06977471],\n",
       "       [24.30440938],\n",
       "       [11.14890767],\n",
       "       [22.34434552],\n",
       "       [ 1.62077832],\n",
       "       [19.64617221],\n",
       "       [ 9.45928708],\n",
       "       [10.70063741],\n",
       "       [ 2.87349316],\n",
       "       [22.49071343],\n",
       "       [19.6807567 ],\n",
       "       [24.12598369],\n",
       "       [15.51053214],\n",
       "       [13.49243581],\n",
       "       [21.88526533],\n",
       "       [18.98176619],\n",
       "       [23.67735962],\n",
       "       [22.57128188],\n",
       "       [ 3.19211203],\n",
       "       [-1.58386581],\n",
       "       [ 1.05947299],\n",
       "       [13.08860575],\n",
       "       [-1.76252098],\n",
       "       [21.52955631],\n",
       "       [26.03522655],\n",
       "       [26.67979687],\n",
       "       [16.6264646 ],\n",
       "       [ 4.1529892 ],\n",
       "       [10.11239317],\n",
       "       [19.92912525],\n",
       "       [26.56478013],\n",
       "       [24.7745077 ],\n",
       "       [ 0.04162055],\n",
       "       [11.1958289 ],\n",
       "       [13.19669624],\n",
       "       [ 9.38300905],\n",
       "       [27.25243235],\n",
       "       [ 8.83732246],\n",
       "       [26.05803377],\n",
       "       [13.68155187],\n",
       "       [25.88597864],\n",
       "       [14.18059543],\n",
       "       [ 0.44435488],\n",
       "       [-1.12740904],\n",
       "       [20.53140726],\n",
       "       [ 9.29447223],\n",
       "       [ 7.28886543],\n",
       "       [ 2.14895343],\n",
       "       [ 0.92568363],\n",
       "       [ 7.82214275],\n",
       "       [27.14636049],\n",
       "       [ 5.83789903],\n",
       "       [24.37579115],\n",
       "       [12.84631792],\n",
       "       [12.58088531],\n",
       "       [15.14958207],\n",
       "       [-2.25539534],\n",
       "       [24.65406029],\n",
       "       [16.09459218],\n",
       "       [10.76074967],\n",
       "       [ 1.43682944],\n",
       "       [ 3.94985471]])"
      ]
     },
     "execution_count": 95,
     "metadata": {},
     "output_type": "execute_result"
    }
   ],
   "source": [
    "y_prediction=lin.predict(x_poly)\n",
    "y_prediction"
   ]
  },
  {
   "cell_type": "code",
   "execution_count": 99,
   "metadata": {},
   "outputs": [
    {
     "data": {
      "image/png": "[encoded data removed]",
      "text/plain": [
       "<Figure size 432x288 with 1 Axes>"
      ]
     },
     "metadata": {
      "needs_background": "light"
     },
     "output_type": "display_data"
    }
   ],
   "source": [
    "plt.scatter(x1,y1,c='g',label='before polynomial')\n",
    "plt.plot(x1,y_prediction,c='r',label='after polynomial linear regression')\n",
    "plt.xlabel('x1')\n",
    "plt.ylabel('y1')\n",
    "plt.title('liner regression with polynamial features')\n",
    "plt.legend('best')\n",
    "plt.show()"
   ]
  },
  {
   "cell_type": "code",
   "execution_count": null,
   "metadata": {},
   "outputs": [],
   "source": []
  }
 ],
 "metadata": {
  "kernelspec": {
   "display_name": "Python 3",
   "language": "python",
   "name": "python3"
  },
  "language_info": {
   "codemirror_mode": {
    "name": "ipython",
    "version": 3
   },
   "file_extension": ".py",
   "mimetype": "text/x-python",
   "name": "python",
   "nbconvert_exporter": "python",
   "pygments_lexer": "ipython3",
   "version": "3.7.3"
  }
 },
 "nbformat": 4,
 "nbformat_minor": 2
}
