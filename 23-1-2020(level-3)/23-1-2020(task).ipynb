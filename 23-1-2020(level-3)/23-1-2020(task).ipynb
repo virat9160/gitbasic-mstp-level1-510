{
 "cells": [
  {
   "cell_type": "markdown",
   "metadata": {},
   "source": [
    "# create a student marks list for 5 students and 6 subjects, count of null values,min,max"
   ]
  },
  {
   "cell_type": "code",
   "execution_count": 14,
   "metadata": {},
   "outputs": [],
   "source": [
    "import pandas as pd"
   ]
  },
  {
   "cell_type": "code",
   "execution_count": 15,
   "metadata": {},
   "outputs": [],
   "source": [
    "import numpy as np"
   ]
  },
  {
   "cell_type": "code",
   "execution_count": 27,
   "metadata": {},
   "outputs": [
    {
     "data": {
      "text/html": [
       "<div>\n",
       "<style scoped>\n",
       "    .dataframe tbody tr th:only-of-type {\n",
       "        vertical-align: middle;\n",
       "    }\n",
       "\n",
       "    .dataframe tbody tr th {\n",
       "        vertical-align: top;\n",
       "    }\n",
       "\n",
       "    .dataframe thead th {\n",
       "        text-align: right;\n",
       "    }\n",
       "</style>\n",
       "<table border=\"1\" class=\"dataframe\">\n",
       "  <thead>\n",
       "    <tr style=\"text-align: right;\">\n",
       "      <th></th>\n",
       "      <th>sub1</th>\n",
       "      <th>sub2</th>\n",
       "      <th>sub3</th>\n",
       "      <th>sub4</th>\n",
       "      <th>sub5</th>\n",
       "      <th>sub6</th>\n",
       "    </tr>\n",
       "  </thead>\n",
       "  <tbody>\n",
       "    <tr>\n",
       "      <th>501</th>\n",
       "      <td>0.467431</td>\n",
       "      <td>0.881844</td>\n",
       "      <td>0.032757</td>\n",
       "      <td>0.806670</td>\n",
       "      <td>0.486979</td>\n",
       "      <td>0.992559</td>\n",
       "    </tr>\n",
       "    <tr>\n",
       "      <th>502</th>\n",
       "      <td>0.988345</td>\n",
       "      <td>0.481644</td>\n",
       "      <td>0.180245</td>\n",
       "      <td>0.399487</td>\n",
       "      <td>0.732236</td>\n",
       "      <td>0.681686</td>\n",
       "    </tr>\n",
       "    <tr>\n",
       "      <th>503</th>\n",
       "      <td>0.876748</td>\n",
       "      <td>0.208082</td>\n",
       "      <td>0.030758</td>\n",
       "      <td>0.391448</td>\n",
       "      <td>0.744516</td>\n",
       "      <td>0.521573</td>\n",
       "    </tr>\n",
       "    <tr>\n",
       "      <th>504</th>\n",
       "      <td>0.083798</td>\n",
       "      <td>0.176503</td>\n",
       "      <td>0.688204</td>\n",
       "      <td>0.806542</td>\n",
       "      <td>0.768283</td>\n",
       "      <td>0.219501</td>\n",
       "    </tr>\n",
       "    <tr>\n",
       "      <th>505</th>\n",
       "      <td>0.053030</td>\n",
       "      <td>0.353492</td>\n",
       "      <td>0.626857</td>\n",
       "      <td>0.554854</td>\n",
       "      <td>0.670545</td>\n",
       "      <td>0.974992</td>\n",
       "    </tr>\n",
       "  </tbody>\n",
       "</table>\n",
       "</div>"
      ],
      "text/plain": [
       "         sub1      sub2      sub3      sub4      sub5      sub6\n",
       "501  0.467431  0.881844  0.032757  0.806670  0.486979  0.992559\n",
       "502  0.988345  0.481644  0.180245  0.399487  0.732236  0.681686\n",
       "503  0.876748  0.208082  0.030758  0.391448  0.744516  0.521573\n",
       "504  0.083798  0.176503  0.688204  0.806542  0.768283  0.219501\n",
       "505  0.053030  0.353492  0.626857  0.554854  0.670545  0.974992"
      ]
     },
     "execution_count": 27,
     "metadata": {},
     "output_type": "execute_result"
    }
   ],
   "source": [
    "df=pd.DataFrame(np.random.rand(5,6),columns=(['sub1','sub2','sub3','sub4','sub5','sub6']),index=['501','502','503','504','505'])\n",
    "df"
   ]
  },
  {
   "cell_type": "code",
   "execution_count": 28,
   "metadata": {},
   "outputs": [
    {
     "data": {
      "text/html": [
       "<div>\n",
       "<style scoped>\n",
       "    .dataframe tbody tr th:only-of-type {\n",
       "        vertical-align: middle;\n",
       "    }\n",
       "\n",
       "    .dataframe tbody tr th {\n",
       "        vertical-align: top;\n",
       "    }\n",
       "\n",
       "    .dataframe thead th {\n",
       "        text-align: right;\n",
       "    }\n",
       "</style>\n",
       "<table border=\"1\" class=\"dataframe\">\n",
       "  <thead>\n",
       "    <tr style=\"text-align: right;\">\n",
       "      <th></th>\n",
       "      <th>sub1</th>\n",
       "      <th>sub2</th>\n",
       "      <th>sub3</th>\n",
       "      <th>sub4</th>\n",
       "      <th>sub5</th>\n",
       "      <th>sub6</th>\n",
       "    </tr>\n",
       "  </thead>\n",
       "  <tbody>\n",
       "    <tr>\n",
       "      <th>501</th>\n",
       "      <td>0.467431</td>\n",
       "      <td>0.881844</td>\n",
       "      <td>0.032757</td>\n",
       "      <td>0.806670</td>\n",
       "      <td>0.486979</td>\n",
       "      <td>0.992559</td>\n",
       "    </tr>\n",
       "    <tr>\n",
       "      <th>502</th>\n",
       "      <td>0.988345</td>\n",
       "      <td>0.481644</td>\n",
       "      <td>0.180245</td>\n",
       "      <td>0.399487</td>\n",
       "      <td>0.732236</td>\n",
       "      <td>NaN</td>\n",
       "    </tr>\n",
       "    <tr>\n",
       "      <th>503</th>\n",
       "      <td>0.876748</td>\n",
       "      <td>NaN</td>\n",
       "      <td>0.030758</td>\n",
       "      <td>0.391448</td>\n",
       "      <td>0.744516</td>\n",
       "      <td>0.521573</td>\n",
       "    </tr>\n",
       "    <tr>\n",
       "      <th>504</th>\n",
       "      <td>0.083798</td>\n",
       "      <td>0.176503</td>\n",
       "      <td>0.688204</td>\n",
       "      <td>0.806542</td>\n",
       "      <td>0.768283</td>\n",
       "      <td>0.219501</td>\n",
       "    </tr>\n",
       "    <tr>\n",
       "      <th>505</th>\n",
       "      <td>0.053030</td>\n",
       "      <td>0.353492</td>\n",
       "      <td>0.626857</td>\n",
       "      <td>0.554854</td>\n",
       "      <td>0.670545</td>\n",
       "      <td>NaN</td>\n",
       "    </tr>\n",
       "  </tbody>\n",
       "</table>\n",
       "</div>"
      ],
      "text/plain": [
       "         sub1      sub2      sub3      sub4      sub5      sub6\n",
       "501  0.467431  0.881844  0.032757  0.806670  0.486979  0.992559\n",
       "502  0.988345  0.481644  0.180245  0.399487  0.732236       NaN\n",
       "503  0.876748       NaN  0.030758  0.391448  0.744516  0.521573\n",
       "504  0.083798  0.176503  0.688204  0.806542  0.768283  0.219501\n",
       "505  0.053030  0.353492  0.626857  0.554854  0.670545       NaN"
      ]
     },
     "execution_count": 28,
     "metadata": {},
     "output_type": "execute_result"
    }
   ],
   "source": [
    "df.iloc[2,1]=np.nan\n",
    "df.iloc[4,5]=np.nan\n",
    "df.iloc[1,5]=np.nan\n",
    "df"
   ]
  },
  {
   "cell_type": "code",
   "execution_count": 29,
   "metadata": {},
   "outputs": [
    {
     "data": {
      "text/plain": [
       "sub1    0\n",
       "sub2    1\n",
       "sub3    0\n",
       "sub4    0\n",
       "sub5    0\n",
       "sub6    2\n",
       "dtype: int64"
      ]
     },
     "execution_count": 29,
     "metadata": {},
     "output_type": "execute_result"
    }
   ],
   "source": [
    "df.isnull().sum()"
   ]
  },
  {
   "cell_type": "code",
   "execution_count": 30,
   "metadata": {},
   "outputs": [
    {
     "data": {
      "text/plain": [
       "501    3.668241\n",
       "502    2.781957\n",
       "503    2.565044\n",
       "504    2.742831\n",
       "505    2.258778\n",
       "dtype: float64"
      ]
     },
     "execution_count": 30,
     "metadata": {},
     "output_type": "execute_result"
    }
   ],
   "source": [
    "df.sum(axis=1)"
   ]
  },
  {
   "cell_type": "code",
   "execution_count": 31,
   "metadata": {},
   "outputs": [],
   "source": [
    "df['total']=df[0:].sum(axis=1)"
   ]
  },
  {
   "cell_type": "code",
   "execution_count": 32,
   "metadata": {},
   "outputs": [
    {
     "data": {
      "text/html": [
       "<div>\n",
       "<style scoped>\n",
       "    .dataframe tbody tr th:only-of-type {\n",
       "        vertical-align: middle;\n",
       "    }\n",
       "\n",
       "    .dataframe tbody tr th {\n",
       "        vertical-align: top;\n",
       "    }\n",
       "\n",
       "    .dataframe thead th {\n",
       "        text-align: right;\n",
       "    }\n",
       "</style>\n",
       "<table border=\"1\" class=\"dataframe\">\n",
       "  <thead>\n",
       "    <tr style=\"text-align: right;\">\n",
       "      <th></th>\n",
       "      <th>sub1</th>\n",
       "      <th>sub2</th>\n",
       "      <th>sub3</th>\n",
       "      <th>sub4</th>\n",
       "      <th>sub5</th>\n",
       "      <th>sub6</th>\n",
       "      <th>total</th>\n",
       "    </tr>\n",
       "  </thead>\n",
       "  <tbody>\n",
       "    <tr>\n",
       "      <th>501</th>\n",
       "      <td>0.467431</td>\n",
       "      <td>0.881844</td>\n",
       "      <td>0.032757</td>\n",
       "      <td>0.806670</td>\n",
       "      <td>0.486979</td>\n",
       "      <td>0.992559</td>\n",
       "      <td>3.668241</td>\n",
       "    </tr>\n",
       "    <tr>\n",
       "      <th>502</th>\n",
       "      <td>0.988345</td>\n",
       "      <td>0.481644</td>\n",
       "      <td>0.180245</td>\n",
       "      <td>0.399487</td>\n",
       "      <td>0.732236</td>\n",
       "      <td>NaN</td>\n",
       "      <td>2.781957</td>\n",
       "    </tr>\n",
       "    <tr>\n",
       "      <th>503</th>\n",
       "      <td>0.876748</td>\n",
       "      <td>NaN</td>\n",
       "      <td>0.030758</td>\n",
       "      <td>0.391448</td>\n",
       "      <td>0.744516</td>\n",
       "      <td>0.521573</td>\n",
       "      <td>2.565044</td>\n",
       "    </tr>\n",
       "    <tr>\n",
       "      <th>504</th>\n",
       "      <td>0.083798</td>\n",
       "      <td>0.176503</td>\n",
       "      <td>0.688204</td>\n",
       "      <td>0.806542</td>\n",
       "      <td>0.768283</td>\n",
       "      <td>0.219501</td>\n",
       "      <td>2.742831</td>\n",
       "    </tr>\n",
       "    <tr>\n",
       "      <th>505</th>\n",
       "      <td>0.053030</td>\n",
       "      <td>0.353492</td>\n",
       "      <td>0.626857</td>\n",
       "      <td>0.554854</td>\n",
       "      <td>0.670545</td>\n",
       "      <td>NaN</td>\n",
       "      <td>2.258778</td>\n",
       "    </tr>\n",
       "  </tbody>\n",
       "</table>\n",
       "</div>"
      ],
      "text/plain": [
       "         sub1      sub2      sub3      sub4      sub5      sub6     total\n",
       "501  0.467431  0.881844  0.032757  0.806670  0.486979  0.992559  3.668241\n",
       "502  0.988345  0.481644  0.180245  0.399487  0.732236       NaN  2.781957\n",
       "503  0.876748       NaN  0.030758  0.391448  0.744516  0.521573  2.565044\n",
       "504  0.083798  0.176503  0.688204  0.806542  0.768283  0.219501  2.742831\n",
       "505  0.053030  0.353492  0.626857  0.554854  0.670545       NaN  2.258778"
      ]
     },
     "execution_count": 32,
     "metadata": {},
     "output_type": "execute_result"
    }
   ],
   "source": [
    "df"
   ]
  },
  {
   "cell_type": "code",
   "execution_count": 34,
   "metadata": {},
   "outputs": [
    {
     "data": {
      "text/html": [
       "<div>\n",
       "<style scoped>\n",
       "    .dataframe tbody tr th:only-of-type {\n",
       "        vertical-align: middle;\n",
       "    }\n",
       "\n",
       "    .dataframe tbody tr th {\n",
       "        vertical-align: top;\n",
       "    }\n",
       "\n",
       "    .dataframe thead th {\n",
       "        text-align: right;\n",
       "    }\n",
       "</style>\n",
       "<table border=\"1\" class=\"dataframe\">\n",
       "  <thead>\n",
       "    <tr style=\"text-align: right;\">\n",
       "      <th></th>\n",
       "      <th>sub1</th>\n",
       "      <th>sub2</th>\n",
       "      <th>sub3</th>\n",
       "      <th>sub4</th>\n",
       "      <th>sub5</th>\n",
       "      <th>sub6</th>\n",
       "      <th>total</th>\n",
       "      <th>average</th>\n",
       "    </tr>\n",
       "  </thead>\n",
       "  <tbody>\n",
       "    <tr>\n",
       "      <th>501</th>\n",
       "      <td>0.467431</td>\n",
       "      <td>0.881844</td>\n",
       "      <td>0.032757</td>\n",
       "      <td>0.806670</td>\n",
       "      <td>0.486979</td>\n",
       "      <td>0.992559</td>\n",
       "      <td>3.668241</td>\n",
       "      <td>1.048069</td>\n",
       "    </tr>\n",
       "    <tr>\n",
       "      <th>502</th>\n",
       "      <td>0.988345</td>\n",
       "      <td>0.481644</td>\n",
       "      <td>0.180245</td>\n",
       "      <td>0.399487</td>\n",
       "      <td>0.732236</td>\n",
       "      <td>NaN</td>\n",
       "      <td>2.781957</td>\n",
       "      <td>0.927319</td>\n",
       "    </tr>\n",
       "    <tr>\n",
       "      <th>503</th>\n",
       "      <td>0.876748</td>\n",
       "      <td>NaN</td>\n",
       "      <td>0.030758</td>\n",
       "      <td>0.391448</td>\n",
       "      <td>0.744516</td>\n",
       "      <td>0.521573</td>\n",
       "      <td>2.565044</td>\n",
       "      <td>0.855015</td>\n",
       "    </tr>\n",
       "    <tr>\n",
       "      <th>504</th>\n",
       "      <td>0.083798</td>\n",
       "      <td>0.176503</td>\n",
       "      <td>0.688204</td>\n",
       "      <td>0.806542</td>\n",
       "      <td>0.768283</td>\n",
       "      <td>0.219501</td>\n",
       "      <td>2.742831</td>\n",
       "      <td>0.783666</td>\n",
       "    </tr>\n",
       "    <tr>\n",
       "      <th>505</th>\n",
       "      <td>0.053030</td>\n",
       "      <td>0.353492</td>\n",
       "      <td>0.626857</td>\n",
       "      <td>0.554854</td>\n",
       "      <td>0.670545</td>\n",
       "      <td>NaN</td>\n",
       "      <td>2.258778</td>\n",
       "      <td>0.752926</td>\n",
       "    </tr>\n",
       "  </tbody>\n",
       "</table>\n",
       "</div>"
      ],
      "text/plain": [
       "         sub1      sub2      sub3      sub4      sub5      sub6     total  \\\n",
       "501  0.467431  0.881844  0.032757  0.806670  0.486979  0.992559  3.668241   \n",
       "502  0.988345  0.481644  0.180245  0.399487  0.732236       NaN  2.781957   \n",
       "503  0.876748       NaN  0.030758  0.391448  0.744516  0.521573  2.565044   \n",
       "504  0.083798  0.176503  0.688204  0.806542  0.768283  0.219501  2.742831   \n",
       "505  0.053030  0.353492  0.626857  0.554854  0.670545       NaN  2.258778   \n",
       "\n",
       "      average  \n",
       "501  1.048069  \n",
       "502  0.927319  \n",
       "503  0.855015  \n",
       "504  0.783666  \n",
       "505  0.752926  "
      ]
     },
     "execution_count": 34,
     "metadata": {},
     "output_type": "execute_result"
    }
   ],
   "source": [
    "df['average']=df[0:].mean(axis=1)\n",
    "df"
   ]
  },
  {
   "cell_type": "code",
   "execution_count": 36,
   "metadata": {},
   "outputs": [
    {
     "data": {
      "text/plain": [
       "501    0.032757\n",
       "502    0.180245\n",
       "503    0.030758\n",
       "504    0.083798\n",
       "505    0.053030\n",
       "dtype: float64"
      ]
     },
     "execution_count": 36,
     "metadata": {},
     "output_type": "execute_result"
    }
   ],
   "source": [
    "df.min(axis=1)"
   ]
  },
  {
   "cell_type": "code",
   "execution_count": 37,
   "metadata": {},
   "outputs": [
    {
     "data": {
      "text/plain": [
       "501    3.668241\n",
       "502    2.781957\n",
       "503    2.565044\n",
       "504    2.742831\n",
       "505    2.258778\n",
       "dtype: float64"
      ]
     },
     "execution_count": 37,
     "metadata": {},
     "output_type": "execute_result"
    }
   ],
   "source": [
    "df.max(axis=1)"
   ]
  },
  {
   "cell_type": "code",
   "execution_count": 41,
   "metadata": {},
   "outputs": [
    {
     "data": {
      "text/plain": [
       "[<matplotlib.lines.Line2D at 0x17f24be1198>,\n",
       " <matplotlib.lines.Line2D at 0x17f24be1278>,\n",
       " <matplotlib.lines.Line2D at 0x17f24be13c8>,\n",
       " <matplotlib.lines.Line2D at 0x17f24be1518>,\n",
       " <matplotlib.lines.Line2D at 0x17f24be1668>,\n",
       " <matplotlib.lines.Line2D at 0x17f24be17b8>,\n",
       " <matplotlib.lines.Line2D at 0x17f24be1908>,\n",
       " <matplotlib.lines.Line2D at 0x17f24be1a58>]"
      ]
     },
     "execution_count": 41,
     "metadata": {},
     "output_type": "execute_result"
    },
    {
     "data": {
      "image/png": "[encoded data removed]",
      "text/plain": [
       "<Figure size 432x288 with 1 Axes>"
      ]
     },
     "metadata": {
      "needs_background": "light"
     },
     "output_type": "display_data"
    }
   ],
   "source": [
    "import matplotlib.pyplot as plt\n",
    "plt.plot(df)"
   ]
  },
  {
   "cell_type": "code",
   "execution_count": 46,
   "metadata": {},
   "outputs": [],
   "source": [
    "# plt.stackplot(df)"
   ]
  },
  {
   "cell_type": "code",
   "execution_count": null,
   "metadata": {},
   "outputs": [],
   "source": [
    "# plt.scatterplot(df)"
   ]
  },
  {
   "cell_type": "code",
   "execution_count": null,
   "metadata": {},
   "outputs": [],
   "source": []
  }
 ],
 "metadata": {
  "kernelspec": {
   "display_name": "Python 3",
   "language": "python",
   "name": "python3"
  },
  "language_info": {
   "codemirror_mode": {
    "name": "ipython",
    "version": 3
   },
   "file_extension": ".py",
   "mimetype": "text/x-python",
   "name": "python",
   "nbconvert_exporter": "python",
   "pygments_lexer": "ipython3",
   "version": "3.7.3"
  }
 },
 "nbformat": 4,
 "nbformat_minor": 2
}
